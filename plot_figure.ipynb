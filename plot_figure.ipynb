{
 "cells": [
  {
   "cell_type": "markdown",
   "id": "opposed-coaching",
   "metadata": {},
   "source": [
    "# Fast learning of fast transforms, with guarantees"
   ]
  },
  {
   "cell_type": "markdown",
   "id": "daily-mentor",
   "metadata": {},
   "source": [
    "A Jupyter notebook to execute experiment scripts of the repository, and plot the results to reproduce the figures of the paper \"Fast learning of fast transforms, with guarantees\" (Quoc-Tung Le, Léon Zheng, Elisa Riccietti, Rémi Gribonval)."
   ]
  },
  {
   "cell_type": "markdown",
   "id": "humanitarian-discount",
   "metadata": {},
   "source": [
    "## FAµST library"
   ]
  },
  {
   "cell_type": "markdown",
   "id": "rotary-bridal",
   "metadata": {},
   "source": [
    "The hierarchical factorization method when fixing the butterfly supports has been implemented in the FAµST library, version 3.25: https://faust.inria.fr/"
   ]
  },
  {
   "cell_type": "code",
   "execution_count": 1,
   "id": "upper-jersey",
   "metadata": {
    "scrolled": true
   },
   "outputs": [
    {
     "name": "stdout",
     "output_type": "stream",
     "text": [
      "Requirement already satisfied: pyfaust in /Users/tung/miniconda3/lib/python3.9/site-packages (3.24.1)\n",
      "Collecting pyfaust\n",
      "  Downloading pyfaust-3.25.0-cp39-cp39-macosx_10_9_x86_64.whl (3.1 MB)\n",
      "\u001b[K     |████████████████████████████████| 3.1 MB 3.7 MB/s eta 0:00:01\n",
      "\u001b[?25hRequirement already satisfied: scipy in /Users/tung/miniconda3/lib/python3.9/site-packages (from pyfaust) (1.7.1)\n",
      "Requirement already satisfied: matplotlib>=2.0.0 in /Users/tung/miniconda3/lib/python3.9/site-packages (from pyfaust) (3.4.3)\n",
      "Requirement already satisfied: pygsp in /Users/tung/miniconda3/lib/python3.9/site-packages (from pyfaust) (0.5.1)\n",
      "Requirement already satisfied: numpy>=1.20 in /Users/tung/miniconda3/lib/python3.9/site-packages (from pyfaust) (1.21.2)\n",
      "Requirement already satisfied: kiwisolver>=1.0.1 in /Users/tung/miniconda3/lib/python3.9/site-packages (from matplotlib>=2.0.0->pyfaust) (1.3.2)\n",
      "Requirement already satisfied: cycler>=0.10 in /Users/tung/miniconda3/lib/python3.9/site-packages (from matplotlib>=2.0.0->pyfaust) (0.10.0)\n",
      "Requirement already satisfied: python-dateutil>=2.7 in /Users/tung/miniconda3/lib/python3.9/site-packages (from matplotlib>=2.0.0->pyfaust) (2.8.2)\n",
      "Requirement already satisfied: pillow>=6.2.0 in /Users/tung/miniconda3/lib/python3.9/site-packages (from matplotlib>=2.0.0->pyfaust) (8.3.2)\n",
      "Requirement already satisfied: pyparsing>=2.2.1 in /Users/tung/miniconda3/lib/python3.9/site-packages (from matplotlib>=2.0.0->pyfaust) (2.4.7)\n",
      "Requirement already satisfied: six in /Users/tung/miniconda3/lib/python3.9/site-packages (from cycler>=0.10->matplotlib>=2.0.0->pyfaust) (1.16.0)\n",
      "Installing collected packages: pyfaust\n",
      "  Attempting uninstall: pyfaust\n",
      "    Found existing installation: pyfaust 3.24.1\n",
      "    Uninstalling pyfaust-3.24.1:\n",
      "      Successfully uninstalled pyfaust-3.24.1\n",
      "Successfully installed pyfaust-3.25.0\n"
     ]
    }
   ],
   "source": [
    "!pip install pyfaust --upgrade"
   ]
  },
  {
   "cell_type": "code",
   "execution_count": 2,
   "id": "incident-assistant",
   "metadata": {},
   "outputs": [
    {
     "name": "stdout",
     "output_type": "stream",
     "text": [
      "3.25.0\n"
     ]
    }
   ],
   "source": [
    "import pyfaust\n",
    "print(pyfaust.__version__)"
   ]
  },
  {
   "cell_type": "markdown",
   "id": "ruled-spider",
   "metadata": {},
   "source": [
    "As a toy example we factorize "
   ]
  },
  {
   "cell_type": "code",
   "execution_count": 11,
   "id": "elect-finder",
   "metadata": {},
   "outputs": [
    {
     "name": "stdout",
     "output_type": "stream",
     "text": [
      "factorization #1\n"
     ]
    },
    {
     "data": {
      "text/plain": [
       "1.3286486844164017e-15"
      ]
     },
     "execution_count": 11,
     "metadata": {},
     "output_type": "execute_result"
    },
    {
     "name": "stdout",
     "output_type": "stream",
     "text": [
      "factorization #2\n",
      "factorization #3\n",
      "factorization #4\n"
     ]
    }
   ],
   "source": [
    "from pyfaust import Faust, wht, dft\n",
    "from pyfaust.fact import butterfly\n",
    "H = wht(32).toarray() # it works with dft too!\n",
    "F = butterfly(H)\n",
    "(F-H).norm()/Faust(H).norm()"
   ]
  },
  {
   "cell_type": "markdown",
   "id": "material-listening",
   "metadata": {},
   "source": [
    "## Getting started"
   ]
  },
  {
   "cell_type": "markdown",
   "id": "primary-buyer",
   "metadata": {},
   "source": [
    "Make sure that the source file have been installed via the command:"
   ]
  },
  {
   "cell_type": "code",
   "execution_count": 9,
   "id": "confidential-vitamin",
   "metadata": {},
   "outputs": [
    {
     "name": "stdout",
     "output_type": "stream",
     "text": [
      "Obtaining file:///Users/tung/Doctorant2/Report/Codegithub/butterfly\n",
      "Installing collected packages: src\n",
      "  Attempting uninstall: src\n",
      "    Found existing installation: src 0.0.0\n",
      "    Uninstalling src-0.0.0:\n",
      "      Successfully uninstalled src-0.0.0\n",
      "  Running setup.py develop for src\n",
      "Successfully installed src-0.0.0\n"
     ]
    }
   ],
   "source": [
    "!pip install -e ."
   ]
  },
  {
   "cell_type": "markdown",
   "id": "retired-liechtenstein",
   "metadata": {},
   "source": [
    "As a toy example we run a hierarchical factorization on the Hadamard matrix."
   ]
  },
  {
   "cell_type": "code",
   "execution_count": 10,
   "id": "funded-enforcement",
   "metadata": {},
   "outputs": [
    {
     "name": "stdout",
     "output_type": "stream",
     "text": [
      "rm: results/hadamard_J=4_balanced.pkl: No such file or directory\n",
      "========= hadamard matrix with noise_m = 0.0, noise_std = 0.0, BP projection with 4 factors, where perm = identity, tree = balanced, max_depth = -1\n",
      "Generating Hadamard matrix to factorize...\n",
      "BP projection, with fixed P = identity, and balanced tree, max_depth=-1\n",
      "Loss: 2.782487803465936e-16\n",
      "Factorization time: 0.005640983581542969\n"
     ]
    }
   ],
   "source": [
    "!rm results/hadamard_J=4_balanced.pkl\n",
    "!mkdir results\n",
    "\n",
    "%run scripts/hierarchical_factorization \\\n",
    "    --num_factors 4 \\\n",
    "    --matrix hadamard \\\n",
    "    --tree balanced \\\n",
    "    --results_path results/hadamard_J=4_balanced.pkl"
   ]
  },
  {
   "cell_type": "markdown",
   "id": "first-lying",
   "metadata": {},
   "source": [
    "We extract the results via pandas."
   ]
  },
  {
   "cell_type": "code",
   "execution_count": 12,
   "id": "billion-wayne",
   "metadata": {},
   "outputs": [
    {
     "data": {
      "text/html": [
       "<div>\n",
       "<style scoped>\n",
       "    .dataframe tbody tr th:only-of-type {\n",
       "        vertical-align: middle;\n",
       "    }\n",
       "\n",
       "    .dataframe tbody tr th {\n",
       "        vertical-align: top;\n",
       "    }\n",
       "\n",
       "    .dataframe thead th {\n",
       "        text-align: right;\n",
       "    }\n",
       "</style>\n",
       "<table border=\"1\" class=\"dataframe\">\n",
       "  <thead>\n",
       "    <tr style=\"text-align: right;\">\n",
       "      <th></th>\n",
       "      <th>num_factors</th>\n",
       "      <th>noise_m</th>\n",
       "      <th>noise_std</th>\n",
       "      <th>matrix</th>\n",
       "      <th>tree</th>\n",
       "      <th>max_depth</th>\n",
       "      <th>perm</th>\n",
       "      <th>loss</th>\n",
       "      <th>time</th>\n",
       "    </tr>\n",
       "  </thead>\n",
       "  <tbody>\n",
       "    <tr>\n",
       "      <th>0</th>\n",
       "      <td>4</td>\n",
       "      <td>0.0</td>\n",
       "      <td>0.0</td>\n",
       "      <td>hadamard</td>\n",
       "      <td>balanced</td>\n",
       "      <td>-1</td>\n",
       "      <td>identity</td>\n",
       "      <td>2.782488e-16</td>\n",
       "      <td>0.005641</td>\n",
       "    </tr>\n",
       "  </tbody>\n",
       "</table>\n",
       "</div>"
      ],
      "text/plain": [
       "  num_factors  noise_m  noise_std    matrix      tree max_depth      perm  \\\n",
       "0           4      0.0        0.0  hadamard  balanced        -1  identity   \n",
       "\n",
       "           loss      time  \n",
       "0  2.782488e-16  0.005641  "
      ]
     },
     "execution_count": 12,
     "metadata": {},
     "output_type": "execute_result"
    }
   ],
   "source": [
    "import pandas as pd\n",
    "pd.read_pickle(\"results/hadamard_J=4_balanced.pkl\")"
   ]
  },
  {
   "cell_type": "markdown",
   "id": "arctic-magnet",
   "metadata": {},
   "source": [
    "## Experiment 1: comparing balanced vs. unbalanced hierarchical factorization\n",
    "We show how to reproduce Figure 4 in the paper."
   ]
  },
  {
   "cell_type": "code",
   "execution_count": 13,
   "id": "blocked-chicken",
   "metadata": {},
   "outputs": [],
   "source": [
    "import matplotlib.pyplot as plt\n",
    "import matplotlib"
   ]
  },
  {
   "cell_type": "code",
   "execution_count": 14,
   "id": "initial-antigua",
   "metadata": {},
   "outputs": [
    {
     "name": "stdout",
     "output_type": "stream",
     "text": [
      "rm: results/hierarchical_vs_comb.pkl: No such file or directory\n",
      "mkdir: results: File exists\n",
      "========= random matrix with noise_m = 0.0, noise_std = 0.1, BP projection with 2 factors, where perm = identity, max_depth = -1\n",
      "Generating random matrix to factorize...\n",
      "\n",
      "EXP_ID: 1/1\n",
      "Adding noise with mean 0.0 and std 0.1\n",
      "Noise over signal: 30.238394621420937 %\n",
      "--------------------------------------------------\n",
      "BP projection, with fixed P = identity, and comb tree, max_depth=-1\n",
      "Loss absolute: 0.08011682291957618 (6.6089196599703595 %)\n",
      "Factorization time: 0.0012662410736083984\n",
      "--------------------------------------------------\n",
      "BP projection, with fixed P = identity, and balanced tree, max_depth=-1\n",
      "Loss absolute: 0.08011682291957618 (6.6089196599703595 %)\n",
      "Factorization time: 0.0017061233520507812\n",
      "--------------------------------------------------\n",
      "\n",
      "RESULTS DATAFRAME\n",
      "  num_factors  noise_m  noise_std  matrix main_m  main_std      tree  \\\n",
      "0           2      0.0        0.1  random      0       1.0      comb   \n",
      "1           2      0.0        0.1  random      0       1.0  balanced   \n",
      "\n",
      "  max_depth      perm  loss_abs  loss_rel      time  matrix_norm  noise_norm  \\\n",
      "0        -1  identity  0.080117  0.066089  0.001266     1.212253    0.366566   \n",
      "1        -1  identity  0.080117  0.066089  0.001706     1.212253    0.366566   \n",
      "\n",
      "   noise_over_signal  \n",
      "0           0.302384  \n",
      "1           0.302384  \n",
      "========= random matrix with noise_m = 0.0, noise_std = 0.1, BP projection with 3 factors, where perm = identity, max_depth = -1\n",
      "Generating random matrix to factorize...\n",
      "\n",
      "EXP_ID: 1/1\n",
      "Adding noise with mean 0.0 and std 0.1\n",
      "Noise over signal: 16.54875389008686 %\n",
      "--------------------------------------------------\n",
      "BP projection, with fixed P = identity, and comb tree, max_depth=-1\n",
      "Loss absolute: 0.5402483879608447 (11.306346664415551 %)\n",
      "Factorization time: 0.0015287399291992188\n",
      "--------------------------------------------------\n",
      "BP projection, with fixed P = identity, and balanced tree, max_depth=-1\n",
      "Loss absolute: 0.49487687947180237 (10.356809349550364 %)\n",
      "Factorization time: 0.002180814743041992\n",
      "--------------------------------------------------\n",
      "\n",
      "RESULTS DATAFRAME\n",
      "  num_factors  noise_m  noise_std  matrix main_m  main_std      tree  \\\n",
      "0           2      0.0        0.1  random      0       1.0      comb   \n",
      "1           2      0.0        0.1  random      0       1.0  balanced   \n",
      "2           3      0.0        0.1  random      0       1.0      comb   \n",
      "3           3      0.0        0.1  random      0       1.0  balanced   \n",
      "\n",
      "  max_depth      perm  loss_abs  loss_rel      time  matrix_norm  noise_norm  \\\n",
      "0        -1  identity  0.080117  0.066089  0.001266     1.212253    0.366566   \n",
      "1        -1  identity  0.080117  0.066089  0.001706     1.212253    0.366566   \n",
      "2        -1  identity  0.540248  0.113063  0.001529     4.778275    0.790745   \n",
      "3        -1  identity  0.494877  0.103568  0.002181     4.778275    0.790745   \n",
      "\n",
      "   noise_over_signal  \n",
      "0           0.302384  \n",
      "1           0.302384  \n",
      "2           0.165488  \n",
      "3           0.165488  \n",
      "========= random matrix with noise_m = 0.0, noise_std = 0.1, BP projection with 4 factors, where perm = identity, max_depth = -1\n",
      "Generating random matrix to factorize...\n",
      "\n",
      "EXP_ID: 1/1\n",
      "Adding noise with mean 0.0 and std 0.1\n",
      "Noise over signal: 9.838873716348104 %\n",
      "--------------------------------------------------\n",
      "BP projection, with fixed P = identity, and comb tree, max_depth=-1\n",
      "Loss absolute: 1.5136115164574786 (9.298270267521387 %)\n",
      "Factorization time: 0.0035479068756103516\n",
      "--------------------------------------------------\n",
      "BP projection, with fixed P = identity, and balanced tree, max_depth=-1\n",
      "Loss absolute: 1.4174323695500541 (8.707431936601486 %)\n",
      "Factorization time: 0.0038802623748779297\n",
      "--------------------------------------------------\n",
      "\n",
      "RESULTS DATAFRAME\n",
      "  num_factors  noise_m  noise_std  matrix main_m  main_std      tree  \\\n",
      "0           2      0.0        0.1  random      0       1.0      comb   \n",
      "1           2      0.0        0.1  random      0       1.0  balanced   \n",
      "2           3      0.0        0.1  random      0       1.0      comb   \n",
      "3           3      0.0        0.1  random      0       1.0  balanced   \n",
      "4           4      0.0        0.1  random      0       1.0      comb   \n",
      "5           4      0.0        0.1  random      0       1.0  balanced   \n",
      "\n",
      "  max_depth      perm  loss_abs  loss_rel      time  matrix_norm  noise_norm  \\\n",
      "0        -1  identity  0.080117  0.066089  0.001266     1.212253    0.366566   \n",
      "1        -1  identity  0.080117  0.066089  0.001706     1.212253    0.366566   \n",
      "2        -1  identity  0.540248  0.113063  0.001529     4.778275    0.790745   \n",
      "3        -1  identity  0.494877  0.103568  0.002181     4.778275    0.790745   \n",
      "4        -1  identity  1.513612  0.092983  0.003548    16.278420    1.601613   \n",
      "5        -1  identity  1.417432  0.087074  0.003880    16.278420    1.601613   \n",
      "\n",
      "   noise_over_signal  \n",
      "0           0.302384  \n",
      "1           0.302384  \n",
      "2           0.165488  \n",
      "3           0.165488  \n",
      "4           0.098389  \n",
      "5           0.098389  \n",
      "========= random matrix with noise_m = 0.0, noise_std = 0.1, BP projection with 5 factors, where perm = identity, max_depth = -1\n",
      "Generating random matrix to factorize...\n",
      "\n",
      "EXP_ID: 1/1\n",
      "Adding noise with mean 0.0 and std 0.1\n",
      "Noise over signal: 11.295021827521353 %\n",
      "--------------------------------------------------\n",
      "BP projection, with fixed P = identity, and comb tree, max_depth=-1\n",
      "Loss absolute: 3.444067750225687 (12.483334040134315 %)\n",
      "Factorization time: 0.009341001510620117\n",
      "--------------------------------------------------\n",
      "BP projection, with fixed P = identity, and balanced tree, max_depth=-1\n",
      "Loss absolute: 2.97789617664219 (10.79365314675569 %)\n",
      "Factorization time: 0.008617877960205078\n",
      "--------------------------------------------------\n",
      "\n",
      "RESULTS DATAFRAME\n",
      "  num_factors  noise_m  noise_std  matrix main_m  main_std      tree  \\\n",
      "0           2      0.0        0.1  random      0       1.0      comb   \n",
      "1           2      0.0        0.1  random      0       1.0  balanced   \n",
      "2           3      0.0        0.1  random      0       1.0      comb   \n",
      "3           3      0.0        0.1  random      0       1.0  balanced   \n",
      "4           4      0.0        0.1  random      0       1.0      comb   \n",
      "5           4      0.0        0.1  random      0       1.0  balanced   \n",
      "6           5      0.0        0.1  random      0       1.0      comb   \n",
      "7           5      0.0        0.1  random      0       1.0  balanced   \n",
      "\n",
      "  max_depth      perm  loss_abs  loss_rel      time  matrix_norm  noise_norm  \\\n",
      "0        -1  identity  0.080117  0.066089  0.001266     1.212253    0.366566   \n",
      "1        -1  identity  0.080117  0.066089  0.001706     1.212253    0.366566   \n",
      "2        -1  identity  0.540248  0.113063  0.001529     4.778275    0.790745   \n",
      "3        -1  identity  0.494877  0.103568  0.002181     4.778275    0.790745   \n",
      "4        -1  identity  1.513612  0.092983  0.003548    16.278420    1.601613   \n",
      "5        -1  identity  1.417432  0.087074  0.003880    16.278420    1.601613   \n",
      "6        -1  identity  3.444068  0.124833  0.009341    27.589326    3.116220   \n",
      "7        -1  identity  2.977896  0.107937  0.008618    27.589326    3.116220   \n",
      "\n",
      "   noise_over_signal  \n",
      "0           0.302384  \n",
      "1           0.302384  \n",
      "2           0.165488  \n",
      "3           0.165488  \n",
      "4           0.098389  \n",
      "5           0.098389  \n",
      "6           0.112950  \n",
      "7           0.112950  \n",
      "========= random matrix with noise_m = 0.0, noise_std = 0.1, BP projection with 6 factors, where perm = identity, max_depth = -1\n",
      "Generating random matrix to factorize...\n",
      "\n",
      "EXP_ID: 1/1\n",
      "Adding noise with mean 0.0 and std 0.1\n",
      "Noise over signal: 7.629846312553262 %\n",
      "--------------------------------------------------\n",
      "BP projection, with fixed P = identity, and comb tree, max_depth=-1\n",
      "Loss absolute: 7.076046380303488 (8.402339616446449 %)\n",
      "Factorization time: 0.018842697143554688\n",
      "--------------------------------------------------\n",
      "BP projection, with fixed P = identity, and balanced tree, max_depth=-1\n",
      "Loss absolute: 6.4365576983149975 (7.642988871954784 %)\n",
      "Factorization time: 0.019547224044799805\n",
      "--------------------------------------------------\n",
      "\n",
      "RESULTS DATAFRAME\n",
      "  num_factors  noise_m  noise_std  matrix main_m  main_std      tree  \\\n",
      "0           2      0.0        0.1  random      0       1.0      comb   \n",
      "1           2      0.0        0.1  random      0       1.0  balanced   \n",
      "2           3      0.0        0.1  random      0       1.0      comb   \n",
      "3           3      0.0        0.1  random      0       1.0  balanced   \n",
      "4           4      0.0        0.1  random      0       1.0      comb   \n",
      "5           4      0.0        0.1  random      0       1.0  balanced   \n",
      "6           5      0.0        0.1  random      0       1.0      comb   \n",
      "7           5      0.0        0.1  random      0       1.0  balanced   \n",
      "8           6      0.0        0.1  random      0       1.0      comb   \n",
      "9           6      0.0        0.1  random      0       1.0  balanced   \n",
      "\n",
      "  max_depth      perm  loss_abs  loss_rel      time  matrix_norm  noise_norm  \\\n",
      "0        -1  identity  0.080117  0.066089  0.001266     1.212253    0.366566   \n",
      "1        -1  identity  0.080117  0.066089  0.001706     1.212253    0.366566   \n",
      "2        -1  identity  0.540248  0.113063  0.001529     4.778275    0.790745   \n",
      "3        -1  identity  0.494877  0.103568  0.002181     4.778275    0.790745   \n",
      "4        -1  identity  1.513612  0.092983  0.003548    16.278420    1.601613   \n",
      "5        -1  identity  1.417432  0.087074  0.003880    16.278420    1.601613   \n",
      "6        -1  identity  3.444068  0.124833  0.009341    27.589326    3.116220   \n",
      "7        -1  identity  2.977896  0.107937  0.008618    27.589326    3.116220   \n",
      "8        -1  identity  7.076046  0.084023  0.018843    84.215191    6.425490   \n",
      "9        -1  identity  6.436558  0.076430  0.019547    84.215191    6.425490   \n",
      "\n",
      "   noise_over_signal  \n",
      "0           0.302384  \n",
      "1           0.302384  \n",
      "2           0.165488  \n",
      "3           0.165488  \n",
      "4           0.098389  \n",
      "5           0.098389  \n",
      "6           0.112950  \n",
      "7           0.112950  \n",
      "8           0.076298  \n",
      "9           0.076298  \n",
      "========= random matrix with noise_m = 0.0, noise_std = 0.1, BP projection with 7 factors, where perm = identity, max_depth = -1\n",
      "Generating random matrix to factorize...\n",
      "\n",
      "EXP_ID: 1/1\n",
      "Adding noise with mean 0.0 and std 0.1\n",
      "Noise over signal: 6.7634073588700385 %\n",
      "--------------------------------------------------\n",
      "BP projection, with fixed P = identity, and comb tree, max_depth=-1\n"
     ]
    },
    {
     "name": "stdout",
     "output_type": "stream",
     "text": [
      "Loss absolute: 19.80543698426992 (10.47836643645561 %)\n",
      "Factorization time: 0.056000709533691406\n",
      "--------------------------------------------------\n",
      "BP projection, with fixed P = identity, and balanced tree, max_depth=-1\n",
      "Loss absolute: 13.016095856505265 (6.886362672271091 %)\n",
      "Factorization time: 0.049009084701538086\n",
      "--------------------------------------------------\n",
      "\n",
      "RESULTS DATAFRAME\n",
      "   num_factors  noise_m  noise_std  matrix main_m  main_std      tree  \\\n",
      "0            2      0.0        0.1  random      0       1.0      comb   \n",
      "1            2      0.0        0.1  random      0       1.0  balanced   \n",
      "2            3      0.0        0.1  random      0       1.0      comb   \n",
      "3            3      0.0        0.1  random      0       1.0  balanced   \n",
      "4            4      0.0        0.1  random      0       1.0      comb   \n",
      "5            4      0.0        0.1  random      0       1.0  balanced   \n",
      "6            5      0.0        0.1  random      0       1.0      comb   \n",
      "7            5      0.0        0.1  random      0       1.0  balanced   \n",
      "8            6      0.0        0.1  random      0       1.0      comb   \n",
      "9            6      0.0        0.1  random      0       1.0  balanced   \n",
      "10           7      0.0        0.1  random      0       1.0      comb   \n",
      "11           7      0.0        0.1  random      0       1.0  balanced   \n",
      "\n",
      "   max_depth      perm   loss_abs  loss_rel      time  matrix_norm  \\\n",
      "0         -1  identity   0.080117  0.066089  0.001266     1.212253   \n",
      "1         -1  identity   0.080117  0.066089  0.001706     1.212253   \n",
      "2         -1  identity   0.540248  0.113063  0.001529     4.778275   \n",
      "3         -1  identity   0.494877  0.103568  0.002181     4.778275   \n",
      "4         -1  identity   1.513612  0.092983  0.003548    16.278420   \n",
      "5         -1  identity   1.417432  0.087074  0.003880    16.278420   \n",
      "6         -1  identity   3.444068  0.124833  0.009341    27.589326   \n",
      "7         -1  identity   2.977896  0.107937  0.008618    27.589326   \n",
      "8         -1  identity   7.076046  0.084023  0.018843    84.215191   \n",
      "9         -1  identity   6.436558  0.076430  0.019547    84.215191   \n",
      "10        -1  identity  19.805437  0.104784  0.056001   189.012640   \n",
      "11        -1  identity  13.016096  0.068864  0.049009   189.012640   \n",
      "\n",
      "    noise_norm  noise_over_signal  \n",
      "0     0.366566           0.302384  \n",
      "1     0.366566           0.302384  \n",
      "2     0.790745           0.165488  \n",
      "3     0.790745           0.165488  \n",
      "4     1.601613           0.098389  \n",
      "5     1.601613           0.098389  \n",
      "6     3.116220           0.112950  \n",
      "7     3.116220           0.112950  \n",
      "8     6.425490           0.076298  \n",
      "9     6.425490           0.076298  \n",
      "10   12.783695           0.067634  \n",
      "11   12.783695           0.067634  \n",
      "========= random matrix with noise_m = 0.0, noise_std = 0.1, BP projection with 8 factors, where perm = identity, max_depth = -1\n",
      "Generating random matrix to factorize...\n",
      "\n",
      "EXP_ID: 1/1\n",
      "Adding noise with mean 0.0 and std 0.1\n",
      "Noise over signal: 13.63452007661592 %\n",
      "--------------------------------------------------\n",
      "BP projection, with fixed P = identity, and comb tree, max_depth=-1\n",
      "Loss absolute: 33.70878838399615 (17.93043739857038 %)\n",
      "Factorization time: 0.1304187774658203\n",
      "--------------------------------------------------\n",
      "BP projection, with fixed P = identity, and balanced tree, max_depth=-1\n",
      "Loss absolute: 25.919032593116743 (13.786896937625576 %)\n",
      "Factorization time: 0.11960387229919434\n",
      "--------------------------------------------------\n",
      "\n",
      "RESULTS DATAFRAME\n",
      "   num_factors  noise_m  noise_std  matrix main_m  main_std      tree  \\\n",
      "0            2      0.0        0.1  random      0       1.0      comb   \n",
      "1            2      0.0        0.1  random      0       1.0  balanced   \n",
      "2            3      0.0        0.1  random      0       1.0      comb   \n",
      "3            3      0.0        0.1  random      0       1.0  balanced   \n",
      "4            4      0.0        0.1  random      0       1.0      comb   \n",
      "5            4      0.0        0.1  random      0       1.0  balanced   \n",
      "6            5      0.0        0.1  random      0       1.0      comb   \n",
      "7            5      0.0        0.1  random      0       1.0  balanced   \n",
      "8            6      0.0        0.1  random      0       1.0      comb   \n",
      "9            6      0.0        0.1  random      0       1.0  balanced   \n",
      "10           7      0.0        0.1  random      0       1.0      comb   \n",
      "11           7      0.0        0.1  random      0       1.0  balanced   \n",
      "12           8      0.0        0.1  random      0       1.0      comb   \n",
      "13           8      0.0        0.1  random      0       1.0  balanced   \n",
      "\n",
      "   max_depth      perm   loss_abs  loss_rel      time  matrix_norm  \\\n",
      "0         -1  identity   0.080117  0.066089  0.001266     1.212253   \n",
      "1         -1  identity   0.080117  0.066089  0.001706     1.212253   \n",
      "2         -1  identity   0.540248  0.113063  0.001529     4.778275   \n",
      "3         -1  identity   0.494877  0.103568  0.002181     4.778275   \n",
      "4         -1  identity   1.513612  0.092983  0.003548    16.278420   \n",
      "5         -1  identity   1.417432  0.087074  0.003880    16.278420   \n",
      "6         -1  identity   3.444068  0.124833  0.009341    27.589326   \n",
      "7         -1  identity   2.977896  0.107937  0.008618    27.589326   \n",
      "8         -1  identity   7.076046  0.084023  0.018843    84.215191   \n",
      "9         -1  identity   6.436558  0.076430  0.019547    84.215191   \n",
      "10        -1  identity  19.805437  0.104784  0.056001   189.012640   \n",
      "11        -1  identity  13.016096  0.068864  0.049009   189.012640   \n",
      "12        -1  identity  33.708788  0.179304  0.130419   187.997580   \n",
      "13        -1  identity  25.919033  0.137869  0.119604   187.997580   \n",
      "\n",
      "    noise_norm  noise_over_signal  \n",
      "0     0.366566           0.302384  \n",
      "1     0.366566           0.302384  \n",
      "2     0.790745           0.165488  \n",
      "3     0.790745           0.165488  \n",
      "4     1.601613           0.098389  \n",
      "5     1.601613           0.098389  \n",
      "6     3.116220           0.112950  \n",
      "7     3.116220           0.112950  \n",
      "8     6.425490           0.076298  \n",
      "9     6.425490           0.076298  \n",
      "10   12.783695           0.067634  \n",
      "11   12.783695           0.067634  \n",
      "12   25.632568           0.136345  \n",
      "13   25.632568           0.136345  \n",
      "========= random matrix with noise_m = 0.0, noise_std = 0.1, BP projection with 9 factors, where perm = identity, max_depth = -1\n",
      "Generating random matrix to factorize...\n",
      "\n",
      "EXP_ID: 1/1\n",
      "Adding noise with mean 0.0 and std 0.1\n",
      "Noise over signal: 10.931737692410874 %\n",
      "--------------------------------------------------\n",
      "BP projection, with fixed P = identity, and comb tree, max_depth=-1\n",
      "Loss absolute: 85.33364070498008 (18.231099286708673 %)\n",
      "Factorization time: 0.5159680843353271\n",
      "--------------------------------------------------\n",
      "BP projection, with fixed P = identity, and balanced tree, max_depth=-1\n",
      "Loss absolute: 52.65929100166779 (11.250390287907432 %)\n",
      "Factorization time: 0.3408958911895752\n",
      "--------------------------------------------------\n",
      "\n",
      "RESULTS DATAFRAME\n",
      "   num_factors  noise_m  noise_std  matrix main_m  main_std      tree  \\\n",
      "0            2      0.0        0.1  random      0       1.0      comb   \n",
      "1            2      0.0        0.1  random      0       1.0  balanced   \n",
      "2            3      0.0        0.1  random      0       1.0      comb   \n",
      "3            3      0.0        0.1  random      0       1.0  balanced   \n",
      "4            4      0.0        0.1  random      0       1.0      comb   \n",
      "5            4      0.0        0.1  random      0       1.0  balanced   \n",
      "6            5      0.0        0.1  random      0       1.0      comb   \n",
      "7            5      0.0        0.1  random      0       1.0  balanced   \n",
      "8            6      0.0        0.1  random      0       1.0      comb   \n",
      "9            6      0.0        0.1  random      0       1.0  balanced   \n",
      "10           7      0.0        0.1  random      0       1.0      comb   \n",
      "11           7      0.0        0.1  random      0       1.0  balanced   \n",
      "12           8      0.0        0.1  random      0       1.0      comb   \n",
      "13           8      0.0        0.1  random      0       1.0  balanced   \n",
      "14           9      0.0        0.1  random      0       1.0      comb   \n",
      "15           9      0.0        0.1  random      0       1.0  balanced   \n",
      "\n",
      "   max_depth      perm   loss_abs  loss_rel      time  matrix_norm  \\\n",
      "0         -1  identity   0.080117  0.066089  0.001266     1.212253   \n",
      "1         -1  identity   0.080117  0.066089  0.001706     1.212253   \n",
      "2         -1  identity   0.540248  0.113063  0.001529     4.778275   \n",
      "3         -1  identity   0.494877  0.103568  0.002181     4.778275   \n",
      "4         -1  identity   1.513612  0.092983  0.003548    16.278420   \n",
      "5         -1  identity   1.417432  0.087074  0.003880    16.278420   \n",
      "6         -1  identity   3.444068  0.124833  0.009341    27.589326   \n",
      "7         -1  identity   2.977896  0.107937  0.008618    27.589326   \n",
      "8         -1  identity   7.076046  0.084023  0.018843    84.215191   \n",
      "9         -1  identity   6.436558  0.076430  0.019547    84.215191   \n",
      "10        -1  identity  19.805437  0.104784  0.056001   189.012640   \n",
      "11        -1  identity  13.016096  0.068864  0.049009   189.012640   \n",
      "12        -1  identity  33.708788  0.179304  0.130419   187.997580   \n",
      "13        -1  identity  25.919033  0.137869  0.119604   187.997580   \n",
      "14        -1  identity  85.333641  0.182311  0.515968   468.066348   \n",
      "15        -1  identity  52.659291  0.112504  0.340896   468.066348   \n",
      "\n",
      "    noise_norm  noise_over_signal  \n",
      "0     0.366566           0.302384  \n",
      "1     0.366566           0.302384  \n",
      "2     0.790745           0.165488  \n",
      "3     0.790745           0.165488  \n",
      "4     1.601613           0.098389  \n",
      "5     1.601613           0.098389  \n",
      "6     3.116220           0.112950  \n",
      "7     3.116220           0.112950  \n",
      "8     6.425490           0.076298  \n",
      "9     6.425490           0.076298  \n",
      "10   12.783695           0.067634  \n",
      "11   12.783695           0.067634  \n",
      "12   25.632568           0.136345  \n",
      "13   25.632568           0.136345  \n",
      "14   51.167785           0.109317  \n",
      "15   51.167785           0.109317  \n"
     ]
    }
   ],
   "source": [
    "# Set list_num_factors = range(2, 14) to test all sizes\n",
    "list_num_factors = range(2, 10)\n",
    "\n",
    "!rm results/hierarchical_vs_comb.pkl\n",
    "!mkdir results\n",
    "\n",
    "for num_factors in list_num_factors:\n",
    "    %run scripts/hierarchical_comb_vs_balanced \\\n",
    "        --num_factors $num_factors \\\n",
    "        --noise_m 0.0 \\\n",
    "        --main_std 1.0 \\\n",
    "        --matrix random \\\n",
    "        --noise_std 0.1 \\\n",
    "        --perm identity \\\n",
    "        --repeat 1 \\\n",
    "        --results_path results/hierarchical_vs_comb.pkl"
   ]
  },
  {
   "cell_type": "code",
   "execution_count": 15,
   "id": "forbidden-allocation",
   "metadata": {},
   "outputs": [
    {
     "data": {
      "image/png": "[encoded data removed]",
      "text/plain": [
       "<Figure size 576x180 with 1 Axes>"
      ]
     },
     "metadata": {
      "needs_background": "light"
     },
     "output_type": "display_data"
    }
   ],
   "source": [
    "stats = pd.read_pickle(\"results/hierarchical_vs_comb.pkl\")\n",
    "stats_comb = stats[stats[\"tree\"] == \"comb\"]\n",
    "stats_balanced = stats[stats[\"tree\"] == \"balanced\"]\n",
    "\n",
    "fig1, ax1 = plt.subplots(figsize=(8, 2.5))\n",
    "plt.grid()\n",
    "ax1.plot(2 ** stats_comb[\"num_factors\"], stats_comb[\"time\"], marker='.', color='tab:blue', label='Unbalanced tree')\n",
    "ax1.plot(2 ** stats_balanced[\"num_factors\"], stats_balanced[\"time\"], marker='.', color='tab:red', label='Balanced tree')\n",
    "ax1.set_yscale(\"log\")\n",
    "ax1.set_xscale(\"log\")\n",
    "ax1.set_xlabel(\"Size\")\n",
    "ax1.set_ylabel(\"Running time (s)\")\n",
    "ax1.set_xticks(2 ** np.array(range(2, 14)))\n",
    "ax1.set_yticks([0.001, 0.01, 0.1, 1, 10, 100, 1000, 10000])\n",
    "ax1.get_xaxis().set_major_formatter(matplotlib.ticker.ScalarFormatter())\n",
    "ax1.legend()\n",
    "plt.minorticks_off()"
   ]
  },
  {
   "cell_type": "markdown",
   "id": "brutal-period",
   "metadata": {},
   "source": [
    "## Experiment 2: comparing hierarchical factorization vs. iterative gradient-based method"
   ]
  },
  {
   "cell_type": "markdown",
   "id": "binding-villa",
   "metadata": {},
   "source": [
    "We show how to reproduce Figure 3 in the paper."
   ]
  },
  {
   "cell_type": "code",
   "execution_count": 16,
   "id": "arctic-yellow",
   "metadata": {
    "scrolled": true
   },
   "outputs": [
    {
     "name": "stdout",
     "output_type": "stream",
     "text": [
      "\n",
      "EXP_ID: 1/2\n",
      "Iterative gradient descent method: loss=0.5239239564276852, time=0.15485715866088867\n",
      "Balanced hierarchical factorization: loss=0.5239966352164368, time=0.011753082275390625\n",
      "Unbalanced hierarchical factorization: loss=0.523997155120812, time=0.011549234390258789\n",
      "\n",
      "EXP_ID: 2/2\n",
      "Iterative gradient descent method: loss=5.5150317197634, time=0.22368311882019043\n",
      "Balanced hierarchical factorization: loss=0.5433019598003207, time=0.013075828552246094\n",
      "Unbalanced hierarchical factorization: loss=0.5432673138247766, time=0.010387897491455078\n",
      "\n",
      "FINAL RESULTS\n",
      "Noise level:\n",
      "[0.7144724341314593, 0.7770879911155733]\n",
      "Loss for gradient iterative method:\n",
      "[0.5239239564276852, 5.5150317197634]\n",
      "Time for gradient iterative method:\n",
      "[0.15485715866088867, 0.22368311882019043]\n",
      "Loss for hierarchical balanced method:\n",
      "[0.5239966352164368, 0.5433019598003207]\n",
      "Time for hierarchical balanced method:\n",
      "[0.011753082275390625, 0.013075828552246094]\n",
      "Loss for hierarchical unbalanced method:\n",
      "[0.523997155120812, 0.5432673138247766]\n",
      "Time for hierarchical unbalanced method:\n",
      "[0.011549234390258789, 0.010387897491455078]\n",
      "\n",
      "EXP_ID: 1/2\n",
      "Iterative gradient descent method: loss=6.008995958699676, time=1.1825659275054932\n",
      "Balanced hierarchical factorization: loss=6.009212959379633, time=0.16666483879089355\n",
      "Unbalanced hierarchical factorization: loss=6.009314014667619, time=0.16464877128601074\n",
      "\n",
      "EXP_ID: 2/2\n",
      "Iterative gradient descent method: loss=6.035606765191202, time=1.2051639556884766\n",
      "Balanced hierarchical factorization: loss=6.035805069709256, time=0.16617512702941895\n",
      "Unbalanced hierarchical factorization: loss=6.035961835887577, time=0.16647887229919434\n",
      "\n",
      "FINAL RESULTS\n",
      "Noise level:\n",
      "[6.378630349667331, 6.388934542120718]\n",
      "Loss for gradient iterative method:\n",
      "[6.008995958699676, 6.035606765191202]\n",
      "Time for gradient iterative method:\n",
      "[1.1825659275054932, 1.2051639556884766]\n",
      "Loss for hierarchical balanced method:\n",
      "[6.009212959379633, 6.035805069709256]\n",
      "Time for hierarchical balanced method:\n",
      "[0.16666483879089355, 0.16617512702941895]\n",
      "Loss for hierarchical unbalanced method:\n",
      "[6.009314014667619, 6.035961835887577]\n",
      "Time for hierarchical unbalanced method:\n",
      "[0.16464877128601074, 0.16647887229919434]\n"
     ]
    }
   ],
   "source": [
    "# Set listJ = [3, 6, 9] to reproduce the whole figure\n",
    "# Set trial to 10 to reproduce several time the experiment\n",
    "listJ = [3, 6]\n",
    "\n",
    "for num_factors in listJ:\n",
    "    %run scripts/iterative_vs_hierarchical_dft \\\n",
    "        --k $num_factors \\\n",
    "        --sigma 0.01 \\\n",
    "        --trial 2 \\\n",
    "        --results_path results/iterative_vs_hier_{num_factors}.npz"
   ]
  },
  {
   "cell_type": "code",
   "execution_count": 17,
   "id": "about-taylor",
   "metadata": {},
   "outputs": [
    {
     "data": {
      "text/plain": [
       "<matplotlib.legend.Legend at 0x7fd4ad446370>"
      ]
     },
     "execution_count": 17,
     "metadata": {},
     "output_type": "execute_result"
    },
    {
     "data": {
      "image/png": "[encoded data removed]",
      "text/plain": [
       "<Figure size 576x252 with 1 Axes>"
      ]
     },
     "metadata": {
      "needs_background": "light"
     },
     "output_type": "display_data"
    }
   ],
   "source": [
    "import numpy as np\n",
    "import matplotlib.patches as mpatches\n",
    "import matplotlib.lines as mlines\n",
    "\n",
    "A1 = []\n",
    "T1 = []\n",
    "A2 = []\n",
    "T2 = []\n",
    "A3 = []\n",
    "T3 = []\n",
    "N = []\n",
    "\n",
    "for k in listJ:\n",
    "    a = np.load(f\"results/iterative_vs_hier_{k}.npz\")\n",
    "    A1.append(a[\"acc_iter\"])\n",
    "    A2.append(a[\"acc_balanced\"])\n",
    "    A3.append(a[\"acc_unbalanced\"])\n",
    "    T1.append(a[\"time_iter\"])\n",
    "    T2.append(a[\"time_balanced\"])\n",
    "    T3.append(a[\"time_unbalanced\"])\n",
    "    N.append(a[\"noise\"])\n",
    "\n",
    "\n",
    "A1 = np.log10(np.array(A1)) #in the training code, A1 = 0.5 * \\|\\|_F^2\n",
    "A2 = np.log10(np.array(A2))\n",
    "A3 = np.log10(np.array(A3))\n",
    "T1 = np.log10(np.array(T1))\n",
    "T2 = np.log10(np.array(T2))\n",
    "T3 = np.log10(np.array(T3))\n",
    "\n",
    "A1_mean = np.mean(A1, axis = 1)\n",
    "A1_max = np.max(A1, axis = 1)\n",
    "A1_min = np.min(A1, axis = 1)\n",
    "A1_std = np.std(A1, axis = 1)\n",
    "\n",
    "A2_mean = np.mean(A2, axis = 1)\n",
    "A2_max = np.max(A2, axis = 1)\n",
    "A2_min = np.min(A2, axis = 1)\n",
    "A2_std = np.std(A2, axis = 1)\n",
    "\n",
    "T1_mean = np.mean(T1, axis = 1)\n",
    "T1_max = np.max(T1, axis = 1)\n",
    "T1_min = np.min(T1, axis = 1)\n",
    "T1_std = np.std(T1, axis = 1)\n",
    "\n",
    "T2_mean = np.mean(T2, axis = 1)\n",
    "T2_std = np.std(T2, axis = 1)\n",
    "T2_max = np.max(T2, axis = 1)\n",
    "T2_min = np.min(T2, axis = 1)\n",
    "\n",
    "A3_mean = np.mean(A3, axis = 1) \n",
    "A3_max = np.max(A3, axis = 1)\n",
    "A3_min = np.min(A3, axis = 1)\n",
    "\n",
    "T3_mean = np.mean(T3, axis = 1)\n",
    "T3_max = np.max(T3, axis = 1)\n",
    "T3_min = np.min(T3, axis = 1)\n",
    "\n",
    "N = np.mean(np.log10(np.array(N)), axis = 1)\n",
    "\n",
    "fig, axes = plt.subplots(figsize= (8, 3.5))\n",
    "\n",
    "blue_patch = mpatches.Patch(color='tab:blue', label='J = 3')\n",
    "orange_patch = mpatches.Patch(color='tab:orange', label='J = 6')\n",
    "green_patch = mpatches.Patch(color='tab:green', label='J = 9')\n",
    "color = ['tab:blue', 'tab:orange', 'tab:green']\n",
    "\n",
    "line = []\n",
    "for i in range(len(A1_mean)):\n",
    "    axes.plot([T1_max[i], T1_min[i]], [A1_mean[i], A1_mean[i]], color = color[i], linewidth=1)\n",
    "    axes.plot([T2_max[i], T2_min[i]], [A2_mean[i], A2_mean[i]], color = color[i], linewidth=1)\n",
    "    axes.plot([T3_max[i], T3_min[i]], [A3_mean[i], A3_mean[i]], color = color[i], linewidth=1)\n",
    "    axes.plot([T1_mean[i], T1_mean[i]], [A1_max[i], A1_min[i]], color = color[i], linewidth=1)\n",
    "    axes.plot([T2_mean[i], T2_mean[i]], [A2_max[i], A2_min[i]], color = color[i], linewidth=1)\n",
    "    axes.plot([T3_mean[i], T3_mean[i]], [A3_max[i], A3_min[i]], color = color[i], linewidth=1)\n",
    "    axes.scatter(T1_mean[i], A1_mean[i], marker = \"s\", color = color[i], s=25)\n",
    "    axes.scatter(T2_mean[i], A2_mean[i], marker = \"x\", color = color[i], s=50)\n",
    "    axes.scatter(T3_mean[i], A3_mean[i], marker = \".\", color = color[i], s=80)\n",
    "    line.append(plt.axhline(y = N[i], ls = \"--\", color = color[i], alpha=0.5))\n",
    "\n",
    "square_legend = mlines.Line2D([], [], color='black', marker='s', linestyle='None', markersize=6, label='ADAM + LBFGS')\n",
    "croix_legend = mlines.Line2D([], [], color='black', marker='x', linestyle='None', markersize=8, label='Balanced hierarchical')\n",
    "circle_legend = mlines.Line2D([], [], color='black', marker='.', linestyle='None', markersize=8, label='Unbalanced hierarchical')\n",
    "\n",
    "axes.set_ylabel(\"log$_{10}$ of approx. error\")\n",
    "axes.set_xlabel(\"log$_{10}$ of running time (s)\")\n",
    "axes.set_xlim(-3,4)\n",
    "\n",
    "legend1 = plt.legend(handles=[blue_patch, orange_patch, green_patch], loc=4)\n",
    "legend2 = plt.legend(handles=[square_legend, croix_legend, circle_legend], loc=2)\n",
    "axes.add_artist(legend1)\n",
    "axes.add_artist(legend2)"
   ]
  },
  {
   "cell_type": "markdown",
   "id": "canadian-patent",
   "metadata": {},
   "source": [
    "We now reproduce Figure 2."
   ]
  },
  {
   "cell_type": "code",
   "execution_count": 19,
   "id": "grateful-barbados",
   "metadata": {},
   "outputs": [
    {
     "name": "stdout",
     "output_type": "stream",
     "text": [
      "Norm of the DFT matrix: 16.0\n",
      "\n",
      "ITERATIVE GRADIENT-BASED FACTORIZATION\n",
      "Approximation error computed as || Z - BP ||: 3.476930917811136e-05\n",
      "Factorization time: 0.2471919059753418\n",
      "\n",
      "HIERARCHICAL BALANCED FACTORIZATION METHOD\n",
      "Approximation error computed as || Z - BP ||: 1.7461340474354375e-14\n",
      "Factorization time: 0.02564096450805664\n",
      "\n",
      "HIERARCHICAL UNBALANCED FACTORIZATION METHOD\n",
      "Approximation error computed as || Z - BP ||: 1.7752834949821218e-14\n",
      "Factorization time: 0.02622199058532715\n"
     ]
    },
    {
     "data": {
      "image/png": "[encoded data removed]",
      "text/plain": [
       "<Figure size 432x288 with 1 Axes>"
      ]
     },
     "metadata": {
      "needs_background": "light"
     },
     "output_type": "display_data"
    }
   ],
   "source": [
    "%run scripts/grad_factorization \\\n",
    "    --num_factors 4 \\\n",
    "    --learning_rate 0.1 \\\n",
    "    --results_path results/iterative_vs_hier.npz"
   ]
  },
  {
   "cell_type": "code",
   "execution_count": null,
   "id": "velvet-bridge",
   "metadata": {},
   "outputs": [],
   "source": []
  }
 ],
 "metadata": {
  "kernelspec": {
   "display_name": "Python 3 (ipykernel)",
   "language": "python",
   "name": "python3"
  },
  "language_info": {
   "codemirror_mode": {
    "name": "ipython",
    "version": 3
   },
   "file_extension": ".py",
   "mimetype": "text/x-python",
   "name": "python",
   "nbconvert_exporter": "python",
   "pygments_lexer": "ipython3",
   "version": "3.9.5"
  }
 },
 "nbformat": 4,
 "nbformat_minor": 5
}
