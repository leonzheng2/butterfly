{
 "cells": [
  {
   "cell_type": "markdown",
   "id": "opposed-coaching",
   "metadata": {},
   "source": [
    "# Fast learning of fast transforms, with guarantees"
   ]
  },
  {
   "cell_type": "markdown",
   "id": "daily-mentor",
   "metadata": {},
   "source": [
    "A Jupyter notebook to execute experiment scripts of the repository, and plot the results to reproduce the figures of the paper \"Fast learning of fast transforms, with guarantees\" (Quoc-Tung Le, Léon Zheng, Elisa Riccietti, Rémi Gribonval)."
   ]
  },
  {
   "cell_type": "markdown",
   "id": "humanitarian-discount",
   "metadata": {},
   "source": [
    "## FAµST library"
   ]
  },
  {
   "cell_type": "markdown",
   "id": "rotary-bridal",
   "metadata": {},
   "source": [
    "The hierarchical factorization method when fixing the butterfly supports has been implemented in the FAµST library, version 3.21.0: https://faust.inria.fr/"
   ]
  },
  {
   "cell_type": "code",
   "execution_count": 26,
   "id": "upper-jersey",
   "metadata": {
    "scrolled": true
   },
   "outputs": [
    {
     "name": "stdout",
     "output_type": "stream",
     "text": [
      "Requirement already satisfied: pyfaust in /opt/conda/lib/python3.7/site-packages (3.5.2)\n",
      "Requirement already satisfied: scipy in /opt/conda/lib/python3.7/site-packages (from pyfaust) (1.6.2)\n",
      "Requirement already satisfied: pathlib in /opt/conda/lib/python3.7/site-packages (from pyfaust) (1.0.1)\n",
      "Requirement already satisfied: numpy>=1.20 in /opt/conda/lib/python3.7/site-packages (from pyfaust) (1.21.5)\n",
      "Requirement already satisfied: pygsp in /opt/conda/lib/python3.7/site-packages (from pyfaust) (0.5.1)\n",
      "Requirement already satisfied: matplotlib>=2.0.0 in /opt/conda/lib/python3.7/site-packages (from pyfaust) (3.4.0)\n",
      "Requirement already satisfied: python-dateutil>=2.7 in /opt/conda/lib/python3.7/site-packages (from matplotlib>=2.0.0->pyfaust) (2.8.1)\n",
      "Requirement already satisfied: pyparsing>=2.2.1 in /opt/conda/lib/python3.7/site-packages (from matplotlib>=2.0.0->pyfaust) (2.4.7)\n",
      "Requirement already satisfied: pillow>=6.2.0 in /opt/conda/lib/python3.7/site-packages (from matplotlib>=2.0.0->pyfaust) (8.1.2)\n",
      "Requirement already satisfied: kiwisolver>=1.0.1 in /opt/conda/lib/python3.7/site-packages (from matplotlib>=2.0.0->pyfaust) (1.3.1)\n",
      "Requirement already satisfied: cycler>=0.10 in /opt/conda/lib/python3.7/site-packages (from matplotlib>=2.0.0->pyfaust) (0.10.0)\n",
      "Requirement already satisfied: six in /opt/conda/lib/python3.7/site-packages (from cycler>=0.10->matplotlib>=2.0.0->pyfaust) (1.15.0)\n"
     ]
    }
   ],
   "source": [
    "!pip install pyfaust --upgrade"
   ]
  },
  {
   "cell_type": "code",
   "execution_count": 24,
   "id": "incident-assistant",
   "metadata": {},
   "outputs": [
    {
     "name": "stdout",
     "output_type": "stream",
     "text": [
      "3.5.2\n"
     ]
    }
   ],
   "source": [
    "import pyfaust\n",
    "print(pyfaust.__version__)"
   ]
  },
  {
   "cell_type": "markdown",
   "id": "ruled-spider",
   "metadata": {},
   "source": [
    "As a toy example we factorize "
   ]
  },
  {
   "cell_type": "code",
   "execution_count": 20,
   "id": "elect-finder",
   "metadata": {},
   "outputs": [
    {
     "ename": "ValueError",
     "evalue": "dir argument must be 'right' or 'left'.",
     "output_type": "error",
     "traceback": [
      "\u001b[0;31m---------------------------------------------------------------------------\u001b[0m",
      "\u001b[0;31mValueError\u001b[0m                                Traceback (most recent call last)",
      "\u001b[0;32m<ipython-input-20-486a6cef2294>\u001b[0m in \u001b[0;36m<module>\u001b[0;34m\u001b[0m\n\u001b[1;32m      2\u001b[0m \u001b[0;32mfrom\u001b[0m \u001b[0mpyfaust\u001b[0m\u001b[0;34m.\u001b[0m\u001b[0mfact\u001b[0m \u001b[0;32mimport\u001b[0m \u001b[0mbutterfly\u001b[0m\u001b[0;34m\u001b[0m\u001b[0;34m\u001b[0m\u001b[0m\n\u001b[1;32m      3\u001b[0m \u001b[0mH\u001b[0m \u001b[0;34m=\u001b[0m \u001b[0mwht\u001b[0m\u001b[0;34m(\u001b[0m\u001b[0;36m32\u001b[0m\u001b[0;34m)\u001b[0m\u001b[0;34m.\u001b[0m\u001b[0mtoarray\u001b[0m\u001b[0;34m(\u001b[0m\u001b[0;34m)\u001b[0m \u001b[0;31m# it works with dft too!\u001b[0m\u001b[0;34m\u001b[0m\u001b[0;34m\u001b[0m\u001b[0m\n\u001b[0;32m----> 4\u001b[0;31m \u001b[0mF\u001b[0m \u001b[0;34m=\u001b[0m \u001b[0mbutterfly\u001b[0m\u001b[0;34m(\u001b[0m\u001b[0mH\u001b[0m\u001b[0;34m,\u001b[0m \u001b[0mdir\u001b[0m\u001b[0;34m=\u001b[0m\u001b[0;34m'bbtree'\u001b[0m\u001b[0;34m)\u001b[0m\u001b[0;34m\u001b[0m\u001b[0;34m\u001b[0m\u001b[0m\n\u001b[0m\u001b[1;32m      5\u001b[0m \u001b[0;34m(\u001b[0m\u001b[0mF\u001b[0m\u001b[0;34m-\u001b[0m\u001b[0mH\u001b[0m\u001b[0;34m)\u001b[0m\u001b[0;34m.\u001b[0m\u001b[0mnorm\u001b[0m\u001b[0;34m(\u001b[0m\u001b[0;34m)\u001b[0m\u001b[0;34m/\u001b[0m\u001b[0mFaust\u001b[0m\u001b[0;34m(\u001b[0m\u001b[0mH\u001b[0m\u001b[0;34m)\u001b[0m\u001b[0;34m.\u001b[0m\u001b[0mnorm\u001b[0m\u001b[0;34m(\u001b[0m\u001b[0;34m)\u001b[0m\u001b[0;34m\u001b[0m\u001b[0;34m\u001b[0m\u001b[0m\n",
      "\u001b[0;32m/opt/conda/lib/python3.7/site-packages/pyfaust/fact.py\u001b[0m in \u001b[0;36mbutterfly\u001b[0;34m(M, dir)\u001b[0m\n\u001b[1;32m    731\u001b[0m     \u001b[0mM\u001b[0m \u001b[0;34m=\u001b[0m \u001b[0m_check_fact_mat\u001b[0m\u001b[0;34m(\u001b[0m\u001b[0;34m'butterfly()'\u001b[0m\u001b[0;34m,\u001b[0m \u001b[0mM\u001b[0m\u001b[0;34m,\u001b[0m \u001b[0mis_real\u001b[0m\u001b[0;34m)\u001b[0m\u001b[0;34m\u001b[0m\u001b[0;34m\u001b[0m\u001b[0m\n\u001b[1;32m    732\u001b[0m     \u001b[0;32mif\u001b[0m \u001b[0mis_real\u001b[0m\u001b[0;34m:\u001b[0m\u001b[0;34m\u001b[0m\u001b[0;34m\u001b[0m\u001b[0m\n\u001b[0;32m--> 733\u001b[0;31m         \u001b[0;32mreturn\u001b[0m \u001b[0mFaust\u001b[0m\u001b[0;34m(\u001b[0m\u001b[0mcore_obj\u001b[0m\u001b[0;34m=\u001b[0m\u001b[0m_FaustCorePy\u001b[0m\u001b[0;34m.\u001b[0m\u001b[0mFaustAlgoGenDbl\u001b[0m\u001b[0;34m.\u001b[0m\u001b[0mbutterfly_hierarchical\u001b[0m\u001b[0;34m(\u001b[0m\u001b[0mM\u001b[0m\u001b[0;34m,\u001b[0m \u001b[0mdir\u001b[0m\u001b[0;34m)\u001b[0m\u001b[0;34m)\u001b[0m\u001b[0;34m\u001b[0m\u001b[0;34m\u001b[0m\u001b[0m\n\u001b[0m\u001b[1;32m    734\u001b[0m     \u001b[0;32melse\u001b[0m\u001b[0;34m:\u001b[0m\u001b[0;34m\u001b[0m\u001b[0;34m\u001b[0m\u001b[0m\n\u001b[1;32m    735\u001b[0m         \u001b[0;32mreturn\u001b[0m \u001b[0mFaust\u001b[0m\u001b[0;34m(\u001b[0m\u001b[0mcore_obj\u001b[0m\u001b[0;34m=\u001b[0m\u001b[0m_FaustCorePy\u001b[0m\u001b[0;34m.\u001b[0m\u001b[0mFaustAlgoGenCplxDbl\u001b[0m\u001b[0;34m.\u001b[0m\u001b[0mbutterfly_hierarchical\u001b[0m\u001b[0;34m(\u001b[0m\u001b[0mM\u001b[0m\u001b[0;34m,\u001b[0m \u001b[0mdir\u001b[0m\u001b[0;34m)\u001b[0m\u001b[0;34m)\u001b[0m\u001b[0;34m\u001b[0m\u001b[0;34m\u001b[0m\u001b[0m\n",
      "\u001b[0;32m_FaustCorePy.pyx\u001b[0m in \u001b[0;36m_FaustCorePy.FaustAlgoGenDbl.butterfly_hierarchical\u001b[0;34m()\u001b[0m\n",
      "\u001b[0;31mValueError\u001b[0m: dir argument must be 'right' or 'left'."
     ]
    }
   ],
   "source": [
    "from pyfaust import Faust, wht, dft\n",
    "from pyfaust.fact import butterfly\n",
    "H = wht(32).toarray() # it works with dft too!\n",
    "F = butterfly(H, dir='bbtree')\n",
    "(F-H).norm()/Faust(H).norm()"
   ]
  },
  {
   "cell_type": "markdown",
   "id": "material-listening",
   "metadata": {},
   "source": [
    "## Getting started"
   ]
  },
  {
   "cell_type": "markdown",
   "id": "primary-buyer",
   "metadata": {},
   "source": [
    "Make sure that the source file have been installed via the command:"
   ]
  },
  {
   "cell_type": "code",
   "execution_count": 5,
   "id": "confidential-vitamin",
   "metadata": {},
   "outputs": [
    {
     "name": "stdout",
     "output_type": "stream",
     "text": [
      "Obtaining file:///root/workspace/butterfly-factorization\n",
      "Installing collected packages: src\n",
      "  Running setup.py develop for src\n",
      "Successfully installed src\n"
     ]
    }
   ],
   "source": [
    "!pip install -e ."
   ]
  },
  {
   "cell_type": "markdown",
   "id": "retired-liechtenstein",
   "metadata": {},
   "source": [
    "As a toy example we run a hierarchical factorization on the Hadamard matrix."
   ]
  },
  {
   "cell_type": "code",
   "execution_count": 9,
   "id": "funded-enforcement",
   "metadata": {},
   "outputs": [
    {
     "name": "stdout",
     "output_type": "stream",
     "text": [
      "rm: cannot remove 'results/hadamard_J=4_balanced.pkl': No such file or directory\n",
      "========= hadamard matrix with noise_m = 0.0, noise_std = 0.0, BP projection with 4 factors, where perm = identity, tree = balanced, max_depth = -1\n",
      "Generating Hadamard matrix to factorize...\n",
      "BP projection, with fixed P = identity, and balanced tree, max_depth=-1\n",
      "Loss: 4.3132914650856485e-16\n",
      "Factorization time: 0.0074694156646728516\n"
     ]
    }
   ],
   "source": [
    "!rm results/hadamard_J=4_balanced.pkl\n",
    "!mkdir results\n",
    "\n",
    "%run scripts/hierarchical_factorization \\\n",
    "    --num_factors 4 \\\n",
    "    --matrix hadamard \\\n",
    "    --tree balanced \\\n",
    "    --results_path results/hadamard_J=4_balanced.pkl"
   ]
  },
  {
   "cell_type": "markdown",
   "id": "first-lying",
   "metadata": {},
   "source": [
    "We extract the results via pandas."
   ]
  },
  {
   "cell_type": "code",
   "execution_count": 10,
   "id": "billion-wayne",
   "metadata": {},
   "outputs": [
    {
     "data": {
      "text/html": [
       "<div>\n",
       "<style scoped>\n",
       "    .dataframe tbody tr th:only-of-type {\n",
       "        vertical-align: middle;\n",
       "    }\n",
       "\n",
       "    .dataframe tbody tr th {\n",
       "        vertical-align: top;\n",
       "    }\n",
       "\n",
       "    .dataframe thead th {\n",
       "        text-align: right;\n",
       "    }\n",
       "</style>\n",
       "<table border=\"1\" class=\"dataframe\">\n",
       "  <thead>\n",
       "    <tr style=\"text-align: right;\">\n",
       "      <th></th>\n",
       "      <th>num_factors</th>\n",
       "      <th>noise_m</th>\n",
       "      <th>noise_std</th>\n",
       "      <th>matrix</th>\n",
       "      <th>tree</th>\n",
       "      <th>max_depth</th>\n",
       "      <th>perm</th>\n",
       "      <th>loss</th>\n",
       "      <th>time</th>\n",
       "    </tr>\n",
       "  </thead>\n",
       "  <tbody>\n",
       "    <tr>\n",
       "      <th>0</th>\n",
       "      <td>4</td>\n",
       "      <td>0.0</td>\n",
       "      <td>0.0</td>\n",
       "      <td>hadamard</td>\n",
       "      <td>balanced</td>\n",
       "      <td>-1</td>\n",
       "      <td>identity</td>\n",
       "      <td>4.313291e-16</td>\n",
       "      <td>0.007469</td>\n",
       "    </tr>\n",
       "  </tbody>\n",
       "</table>\n",
       "</div>"
      ],
      "text/plain": [
       "  num_factors  noise_m  noise_std    matrix      tree max_depth      perm  \\\n",
       "0           4      0.0        0.0  hadamard  balanced        -1  identity   \n",
       "\n",
       "           loss      time  \n",
       "0  4.313291e-16  0.007469  "
      ]
     },
     "execution_count": 10,
     "metadata": {},
     "output_type": "execute_result"
    }
   ],
   "source": [
    "import pandas as pd\n",
    "pd.read_pickle(\"results/hadamard_J=4_balanced.pkl\")"
   ]
  },
  {
   "cell_type": "markdown",
   "id": "arctic-magnet",
   "metadata": {},
   "source": [
    "## Experiment 1: comparing balanced vs. unbalanced hierarchical factorization\n",
    "We show how to reproduce Figure 4 in the paper."
   ]
  },
  {
   "cell_type": "code",
   "execution_count": 11,
   "id": "blocked-chicken",
   "metadata": {},
   "outputs": [],
   "source": [
    "import matplotlib.pyplot as plt\n",
    "import matplotlib"
   ]
  },
  {
   "cell_type": "code",
   "execution_count": 12,
   "id": "initial-antigua",
   "metadata": {},
   "outputs": [
    {
     "name": "stdout",
     "output_type": "stream",
     "text": [
      "rm: cannot remove 'results/hierarchical_vs_comb.pkl': No such file or directory\n",
      "mkdir: cannot create directory ‘results’: File exists\n",
      "========= random matrix with noise_m = 0.0, noise_std = 1.0, BP projection with 2 factors, where perm = identity, max_depth = -1\n",
      "Generating random matrix to factorize...\n",
      "\n",
      "EXP_ID: 1/1\n",
      "Adding noise with mean 0.0 and std 1.0\n",
      "Noise over signal: 99.89055931745816 %\n",
      "--------------------------------------------------\n",
      "BP projection, with fixed P = identity, and comb tree, max_depth=-1\n",
      "Loss absolute: 0.8322466606295127 (17.487400910598804 %)\n",
      "Factorization time: 0.0029261112213134766\n",
      "--------------------------------------------------\n",
      "BP projection, with fixed P = identity, and balanced tree, max_depth=-1\n",
      "Loss absolute: 0.8322466606295127 (17.487400910598804 %)\n",
      "Factorization time: 0.0010495185852050781\n",
      "--------------------------------------------------\n",
      "\n",
      "RESULTS DATAFRAME\n",
      "  num_factors  noise_m  noise_std  matrix main_m  main_std      tree  \\\n",
      "0           2      0.0        1.0  random      0       0.1      comb   \n",
      "1           2      0.0        1.0  random      0       0.1  balanced   \n",
      "\n",
      "  max_depth      perm  loss_abs  loss_rel      time  matrix_norm  noise_norm  \\\n",
      "0        -1  identity  0.832247  0.174874  0.002926     4.759122    4.753913   \n",
      "1        -1  identity  0.832247  0.174874  0.001050     4.759122    4.753913   \n",
      "\n",
      "   noise_over_signal  \n",
      "0           0.998906  \n",
      "1           0.998906  \n",
      "========= random matrix with noise_m = 0.0, noise_std = 1.0, BP projection with 3 factors, where perm = identity, max_depth = -1\n",
      "Generating random matrix to factorize...\n",
      "\n",
      "EXP_ID: 1/1\n",
      "Adding noise with mean 0.0 and std 1.0\n",
      "Noise over signal: 100.00155549732024 %\n",
      "--------------------------------------------------\n",
      "BP projection, with fixed P = identity, and comb tree, max_depth=-1\n",
      "Loss absolute: 3.7699330608295045 (49.67992741283186 %)\n",
      "Factorization time: 0.0029878616333007812\n",
      "--------------------------------------------------\n",
      "BP projection, with fixed P = identity, and balanced tree, max_depth=-1\n",
      "Loss absolute: 3.706156883523684 (48.83948918538919 %)\n",
      "Factorization time: 0.004232883453369141\n",
      "--------------------------------------------------\n",
      "\n",
      "RESULTS DATAFRAME\n",
      "  num_factors  noise_m  noise_std  matrix main_m  main_std      tree  \\\n",
      "0           2      0.0        1.0  random      0       0.1      comb   \n",
      "1           2      0.0        1.0  random      0       0.1  balanced   \n",
      "2           3      0.0        1.0  random      0       0.1      comb   \n",
      "3           3      0.0        1.0  random      0       0.1  balanced   \n",
      "\n",
      "  max_depth      perm  loss_abs  loss_rel      time  matrix_norm  noise_norm  \\\n",
      "0        -1  identity  0.832247  0.174874  0.002926     4.759122    4.753913   \n",
      "1        -1  identity  0.832247  0.174874  0.001050     4.759122    4.753913   \n",
      "2        -1  identity  3.769933  0.496799  0.002988     7.588443    7.588561   \n",
      "3        -1  identity  3.706157  0.488395  0.004233     7.588443    7.588561   \n",
      "\n",
      "   noise_over_signal  \n",
      "0           0.998906  \n",
      "1           0.998906  \n",
      "2           1.000016  \n",
      "3           1.000016  \n",
      "========= random matrix with noise_m = 0.0, noise_std = 1.0, BP projection with 4 factors, where perm = identity, max_depth = -1\n",
      "Generating random matrix to factorize...\n",
      "\n",
      "EXP_ID: 1/1\n",
      "Adding noise with mean 0.0 and std 1.0\n",
      "Noise over signal: 100.00001304395683 %\n",
      "--------------------------------------------------\n",
      "BP projection, with fixed P = identity, and comb tree, max_depth=-1\n",
      "Loss absolute: 11.603972758082968 (75.89023235479696 %)\n",
      "Factorization time: 0.006066083908081055\n",
      "--------------------------------------------------\n",
      "BP projection, with fixed P = identity, and balanced tree, max_depth=-1\n",
      "Loss absolute: 11.403628521044553 (74.57997671935529 %)\n",
      "Factorization time: 0.006382942199707031\n",
      "--------------------------------------------------\n",
      "\n",
      "RESULTS DATAFRAME\n",
      "  num_factors  noise_m  noise_std  matrix main_m  main_std      tree  \\\n",
      "0           2      0.0        1.0  random      0       0.1      comb   \n",
      "1           2      0.0        1.0  random      0       0.1  balanced   \n",
      "2           3      0.0        1.0  random      0       0.1      comb   \n",
      "3           3      0.0        1.0  random      0       0.1  balanced   \n",
      "4           4      0.0        1.0  random      0       0.1      comb   \n",
      "5           4      0.0        1.0  random      0       0.1  balanced   \n",
      "\n",
      "  max_depth      perm   loss_abs  loss_rel      time  matrix_norm  noise_norm  \\\n",
      "0        -1  identity   0.832247  0.174874  0.002926     4.759122    4.753913   \n",
      "1        -1  identity   0.832247  0.174874  0.001050     4.759122    4.753913   \n",
      "2        -1  identity   3.769933  0.496799  0.002988     7.588443    7.588561   \n",
      "3        -1  identity   3.706157  0.488395  0.004233     7.588443    7.588561   \n",
      "4        -1  identity  11.603973  0.758902  0.006066    15.290469   15.290471   \n",
      "5        -1  identity  11.403629  0.745800  0.006383    15.290469   15.290471   \n",
      "\n",
      "   noise_over_signal  \n",
      "0           0.998906  \n",
      "1           0.998906  \n",
      "2           1.000016  \n",
      "3           1.000016  \n",
      "4           1.000000  \n",
      "5           1.000000  \n",
      "========= random matrix with noise_m = 0.0, noise_std = 1.0, BP projection with 5 factors, where perm = identity, max_depth = -1\n",
      "Generating random matrix to factorize...\n",
      "\n",
      "EXP_ID: 1/1\n",
      "Adding noise with mean 0.0 and std 1.0\n",
      "Noise over signal: 100.00001127031027 %\n",
      "--------------------------------------------------\n",
      "BP projection, with fixed P = identity, and comb tree, max_depth=-1\n",
      "Loss absolute: 26.303215586324207 (83.39796977828091 %)\n",
      "Factorization time: 0.013999700546264648\n",
      "--------------------------------------------------\n",
      "BP projection, with fixed P = identity, and balanced tree, max_depth=-1\n",
      "Loss absolute: 26.551926898099424 (84.18654326637302 %)\n",
      "Factorization time: 0.014384984970092773\n",
      "--------------------------------------------------\n",
      "\n",
      "RESULTS DATAFRAME\n",
      "  num_factors  noise_m  noise_std  matrix main_m  main_std      tree  \\\n",
      "0           2      0.0        1.0  random      0       0.1      comb   \n",
      "1           2      0.0        1.0  random      0       0.1  balanced   \n",
      "2           3      0.0        1.0  random      0       0.1      comb   \n",
      "3           3      0.0        1.0  random      0       0.1  balanced   \n",
      "4           4      0.0        1.0  random      0       0.1      comb   \n",
      "5           4      0.0        1.0  random      0       0.1  balanced   \n",
      "6           5      0.0        1.0  random      0       0.1      comb   \n",
      "7           5      0.0        1.0  random      0       0.1  balanced   \n",
      "\n",
      "  max_depth      perm   loss_abs  loss_rel      time  matrix_norm  noise_norm  \\\n",
      "0        -1  identity   0.832247  0.174874  0.002926     4.759122    4.753913   \n",
      "1        -1  identity   0.832247  0.174874  0.001050     4.759122    4.753913   \n",
      "2        -1  identity   3.769933  0.496799  0.002988     7.588443    7.588561   \n",
      "3        -1  identity   3.706157  0.488395  0.004233     7.588443    7.588561   \n",
      "4        -1  identity  11.603973  0.758902  0.006066    15.290469   15.290471   \n",
      "5        -1  identity  11.403629  0.745800  0.006383    15.290469   15.290471   \n",
      "6        -1  identity  26.303216  0.833980  0.014000    31.539396   31.539399   \n",
      "7        -1  identity  26.551927  0.841865  0.014385    31.539396   31.539399   \n",
      "\n",
      "   noise_over_signal  \n",
      "0           0.998906  \n",
      "1           0.998906  \n",
      "2           1.000016  \n",
      "3           1.000016  \n",
      "4           1.000000  \n",
      "5           1.000000  \n",
      "6           1.000000  \n",
      "7           1.000000  \n",
      "========= random matrix with noise_m = 0.0, noise_std = 1.0, BP projection with 6 factors, where perm = identity, max_depth = -1\n",
      "Generating random matrix to factorize...\n",
      "\n",
      "EXP_ID: 1/1\n",
      "Adding noise with mean 0.0 and std 1.0\n",
      "Noise over signal: 99.99999905784378 %\n",
      "--------------------------------------------------\n",
      "BP projection, with fixed P = identity, and comb tree, max_depth=-1\n",
      "Loss absolute: 57.2914673556645 (90.3009028657572 %)\n",
      "Factorization time: 0.035430192947387695\n",
      "--------------------------------------------------\n",
      "BP projection, with fixed P = identity, and balanced tree, max_depth=-1\n",
      "Loss absolute: 57.56725088235276 (90.73558367609238 %)\n",
      "Factorization time: 0.03177332878112793\n",
      "--------------------------------------------------\n",
      "\n",
      "RESULTS DATAFRAME\n"
     ]
    },
    {
     "name": "stdout",
     "output_type": "stream",
     "text": [
      "  num_factors  noise_m  noise_std  matrix main_m  main_std      tree  \\\n",
      "0           2      0.0        1.0  random      0       0.1      comb   \n",
      "1           2      0.0        1.0  random      0       0.1  balanced   \n",
      "2           3      0.0        1.0  random      0       0.1      comb   \n",
      "3           3      0.0        1.0  random      0       0.1  balanced   \n",
      "4           4      0.0        1.0  random      0       0.1      comb   \n",
      "5           4      0.0        1.0  random      0       0.1  balanced   \n",
      "6           5      0.0        1.0  random      0       0.1      comb   \n",
      "7           5      0.0        1.0  random      0       0.1  balanced   \n",
      "8           6      0.0        1.0  random      0       0.1      comb   \n",
      "9           6      0.0        1.0  random      0       0.1  balanced   \n",
      "\n",
      "  max_depth      perm   loss_abs  loss_rel      time  matrix_norm  noise_norm  \\\n",
      "0        -1  identity   0.832247  0.174874  0.002926     4.759122    4.753913   \n",
      "1        -1  identity   0.832247  0.174874  0.001050     4.759122    4.753913   \n",
      "2        -1  identity   3.769933  0.496799  0.002988     7.588443    7.588561   \n",
      "3        -1  identity   3.706157  0.488395  0.004233     7.588443    7.588561   \n",
      "4        -1  identity  11.603973  0.758902  0.006066    15.290469   15.290471   \n",
      "5        -1  identity  11.403629  0.745800  0.006383    15.290469   15.290471   \n",
      "6        -1  identity  26.303216  0.833980  0.014000    31.539396   31.539399   \n",
      "7        -1  identity  26.551927  0.841865  0.014385    31.539396   31.539399   \n",
      "8        -1  identity  57.291467  0.903009  0.035430    63.445066   63.445065   \n",
      "9        -1  identity  57.567251  0.907356  0.031773    63.445066   63.445065   \n",
      "\n",
      "   noise_over_signal  \n",
      "0           0.998906  \n",
      "1           0.998906  \n",
      "2           1.000016  \n",
      "3           1.000016  \n",
      "4           1.000000  \n",
      "5           1.000000  \n",
      "6           1.000000  \n",
      "7           1.000000  \n",
      "8           1.000000  \n",
      "9           1.000000  \n",
      "========= random matrix with noise_m = 0.0, noise_std = 1.0, BP projection with 7 factors, where perm = identity, max_depth = -1\n",
      "Generating random matrix to factorize...\n",
      "\n",
      "EXP_ID: 1/1\n",
      "Adding noise with mean 0.0 and std 1.0\n",
      "Noise over signal: 100.00000010333963 %\n",
      "--------------------------------------------------\n",
      "BP projection, with fixed P = identity, and comb tree, max_depth=-1\n",
      "Loss absolute: 122.50407679787592 (94.74671391560179 %)\n",
      "Factorization time: 0.6200087070465088\n",
      "--------------------------------------------------\n",
      "BP projection, with fixed P = identity, and balanced tree, max_depth=-1\n",
      "Loss absolute: 123.17994882109147 (95.26944470873954 %)\n",
      "Factorization time: 0.35716891288757324\n",
      "--------------------------------------------------\n",
      "\n",
      "RESULTS DATAFRAME\n",
      "   num_factors  noise_m  noise_std  matrix main_m  main_std      tree  \\\n",
      "0            2      0.0        1.0  random      0       0.1      comb   \n",
      "1            2      0.0        1.0  random      0       0.1  balanced   \n",
      "2            3      0.0        1.0  random      0       0.1      comb   \n",
      "3            3      0.0        1.0  random      0       0.1  balanced   \n",
      "4            4      0.0        1.0  random      0       0.1      comb   \n",
      "5            4      0.0        1.0  random      0       0.1  balanced   \n",
      "6            5      0.0        1.0  random      0       0.1      comb   \n",
      "7            5      0.0        1.0  random      0       0.1  balanced   \n",
      "8            6      0.0        1.0  random      0       0.1      comb   \n",
      "9            6      0.0        1.0  random      0       0.1  balanced   \n",
      "10           7      0.0        1.0  random      0       0.1      comb   \n",
      "11           7      0.0        1.0  random      0       0.1  balanced   \n",
      "\n",
      "   max_depth      perm    loss_abs  loss_rel      time  matrix_norm  \\\n",
      "0         -1  identity    0.832247  0.174874  0.002926     4.759122   \n",
      "1         -1  identity    0.832247  0.174874  0.001050     4.759122   \n",
      "2         -1  identity    3.769933  0.496799  0.002988     7.588443   \n",
      "3         -1  identity    3.706157  0.488395  0.004233     7.588443   \n",
      "4         -1  identity   11.603973  0.758902  0.006066    15.290469   \n",
      "5         -1  identity   11.403629  0.745800  0.006383    15.290469   \n",
      "6         -1  identity   26.303216  0.833980  0.014000    31.539396   \n",
      "7         -1  identity   26.551927  0.841865  0.014385    31.539396   \n",
      "8         -1  identity   57.291467  0.903009  0.035430    63.445066   \n",
      "9         -1  identity   57.567251  0.907356  0.031773    63.445066   \n",
      "10        -1  identity  122.504077  0.947467  0.620009   129.296386   \n",
      "11        -1  identity  123.179949  0.952694  0.357169   129.296386   \n",
      "\n",
      "    noise_norm  noise_over_signal  \n",
      "0     4.753913           0.998906  \n",
      "1     4.753913           0.998906  \n",
      "2     7.588561           1.000016  \n",
      "3     7.588561           1.000016  \n",
      "4    15.290471           1.000000  \n",
      "5    15.290471           1.000000  \n",
      "6    31.539399           1.000000  \n",
      "7    31.539399           1.000000  \n",
      "8    63.445065           1.000000  \n",
      "9    63.445065           1.000000  \n",
      "10  129.296386           1.000000  \n",
      "11  129.296386           1.000000  \n",
      "========= random matrix with noise_m = 0.0, noise_std = 1.0, BP projection with 8 factors, where perm = identity, max_depth = -1\n",
      "Generating random matrix to factorize...\n",
      "\n",
      "EXP_ID: 1/1\n",
      "Adding noise with mean 0.0 and std 1.0\n",
      "Noise over signal: 100.00000000795397 %\n",
      "--------------------------------------------------\n",
      "BP projection, with fixed P = identity, and comb tree, max_depth=-1\n",
      "Loss absolute: 248.64355834869266 (97.09123261790207 %)\n",
      "Factorization time: 15.91042971611023\n",
      "--------------------------------------------------\n",
      "BP projection, with fixed P = identity, and balanced tree, max_depth=-1\n",
      "Loss absolute: 250.03928800401096 (97.63624216303643 %)\n",
      "Factorization time: 0.6957027912139893\n",
      "--------------------------------------------------\n",
      "\n",
      "RESULTS DATAFRAME\n",
      "   num_factors  noise_m  noise_std  matrix main_m  main_std      tree  \\\n",
      "0            2      0.0        1.0  random      0       0.1      comb   \n",
      "1            2      0.0        1.0  random      0       0.1  balanced   \n",
      "2            3      0.0        1.0  random      0       0.1      comb   \n",
      "3            3      0.0        1.0  random      0       0.1  balanced   \n",
      "4            4      0.0        1.0  random      0       0.1      comb   \n",
      "5            4      0.0        1.0  random      0       0.1  balanced   \n",
      "6            5      0.0        1.0  random      0       0.1      comb   \n",
      "7            5      0.0        1.0  random      0       0.1  balanced   \n",
      "8            6      0.0        1.0  random      0       0.1      comb   \n",
      "9            6      0.0        1.0  random      0       0.1  balanced   \n",
      "10           7      0.0        1.0  random      0       0.1      comb   \n",
      "11           7      0.0        1.0  random      0       0.1  balanced   \n",
      "12           8      0.0        1.0  random      0       0.1      comb   \n",
      "13           8      0.0        1.0  random      0       0.1  balanced   \n",
      "\n",
      "   max_depth      perm    loss_abs  loss_rel       time  matrix_norm  \\\n",
      "0         -1  identity    0.832247  0.174874   0.002926     4.759122   \n",
      "1         -1  identity    0.832247  0.174874   0.001050     4.759122   \n",
      "2         -1  identity    3.769933  0.496799   0.002988     7.588443   \n",
      "3         -1  identity    3.706157  0.488395   0.004233     7.588443   \n",
      "4         -1  identity   11.603973  0.758902   0.006066    15.290469   \n",
      "5         -1  identity   11.403629  0.745800   0.006383    15.290469   \n",
      "6         -1  identity   26.303216  0.833980   0.014000    31.539396   \n",
      "7         -1  identity   26.551927  0.841865   0.014385    31.539396   \n",
      "8         -1  identity   57.291467  0.903009   0.035430    63.445066   \n",
      "9         -1  identity   57.567251  0.907356   0.031773    63.445066   \n",
      "10        -1  identity  122.504077  0.947467   0.620009   129.296386   \n",
      "11        -1  identity  123.179949  0.952694   0.357169   129.296386   \n",
      "12        -1  identity  248.643558  0.970912  15.910430   256.092699   \n",
      "13        -1  identity  250.039288  0.976362   0.695703   256.092699   \n",
      "\n",
      "    noise_norm  noise_over_signal  \n",
      "0     4.753913           0.998906  \n",
      "1     4.753913           0.998906  \n",
      "2     7.588561           1.000016  \n",
      "3     7.588561           1.000016  \n",
      "4    15.290471           1.000000  \n",
      "5    15.290471           1.000000  \n",
      "6    31.539399           1.000000  \n",
      "7    31.539399           1.000000  \n",
      "8    63.445065           1.000000  \n",
      "9    63.445065           1.000000  \n",
      "10  129.296386           1.000000  \n",
      "11  129.296386           1.000000  \n",
      "12  256.092699           1.000000  \n",
      "13  256.092699           1.000000  \n",
      "========= random matrix with noise_m = 0.0, noise_std = 1.0, BP projection with 9 factors, where perm = identity, max_depth = -1\n",
      "Generating random matrix to factorize...\n"
     ]
    },
    {
     "name": "stdout",
     "output_type": "stream",
     "text": [
      "\n",
      "EXP_ID: 1/1\n",
      "Adding noise with mean 0.0 and std 1.0\n",
      "Noise over signal: 100.00000000001896 %\n",
      "--------------------------------------------------\n",
      "BP projection, with fixed P = identity, and comb tree, max_depth=-1\n",
      "Loss absolute: 504.1029402019546 (98.41879305631097 %)\n",
      "Factorization time: 76.41915607452393\n",
      "--------------------------------------------------\n",
      "BP projection, with fixed P = identity, and balanced tree, max_depth=-1\n",
      "Loss absolute: 506.6878696623966 (98.92346306980164 %)\n",
      "Factorization time: 1.5729396343231201\n",
      "--------------------------------------------------\n",
      "\n",
      "RESULTS DATAFRAME\n",
      "   num_factors  noise_m  noise_std  matrix main_m  main_std      tree  \\\n",
      "0            2      0.0        1.0  random      0       0.1      comb   \n",
      "1            2      0.0        1.0  random      0       0.1  balanced   \n",
      "2            3      0.0        1.0  random      0       0.1      comb   \n",
      "3            3      0.0        1.0  random      0       0.1  balanced   \n",
      "4            4      0.0        1.0  random      0       0.1      comb   \n",
      "5            4      0.0        1.0  random      0       0.1  balanced   \n",
      "6            5      0.0        1.0  random      0       0.1      comb   \n",
      "7            5      0.0        1.0  random      0       0.1  balanced   \n",
      "8            6      0.0        1.0  random      0       0.1      comb   \n",
      "9            6      0.0        1.0  random      0       0.1  balanced   \n",
      "10           7      0.0        1.0  random      0       0.1      comb   \n",
      "11           7      0.0        1.0  random      0       0.1  balanced   \n",
      "12           8      0.0        1.0  random      0       0.1      comb   \n",
      "13           8      0.0        1.0  random      0       0.1  balanced   \n",
      "14           9      0.0        1.0  random      0       0.1      comb   \n",
      "15           9      0.0        1.0  random      0       0.1  balanced   \n",
      "\n",
      "   max_depth      perm    loss_abs  loss_rel       time  matrix_norm  \\\n",
      "0         -1  identity    0.832247  0.174874   0.002926     4.759122   \n",
      "1         -1  identity    0.832247  0.174874   0.001050     4.759122   \n",
      "2         -1  identity    3.769933  0.496799   0.002988     7.588443   \n",
      "3         -1  identity    3.706157  0.488395   0.004233     7.588443   \n",
      "4         -1  identity   11.603973  0.758902   0.006066    15.290469   \n",
      "5         -1  identity   11.403629  0.745800   0.006383    15.290469   \n",
      "6         -1  identity   26.303216  0.833980   0.014000    31.539396   \n",
      "7         -1  identity   26.551927  0.841865   0.014385    31.539396   \n",
      "8         -1  identity   57.291467  0.903009   0.035430    63.445066   \n",
      "9         -1  identity   57.567251  0.907356   0.031773    63.445066   \n",
      "10        -1  identity  122.504077  0.947467   0.620009   129.296386   \n",
      "11        -1  identity  123.179949  0.952694   0.357169   129.296386   \n",
      "12        -1  identity  248.643558  0.970912  15.910430   256.092699   \n",
      "13        -1  identity  250.039288  0.976362   0.695703   256.092699   \n",
      "14        -1  identity  504.102940  0.984188  76.419156   512.201912   \n",
      "15        -1  identity  506.687870  0.989235   1.572940   512.201912   \n",
      "\n",
      "    noise_norm  noise_over_signal  \n",
      "0     4.753913           0.998906  \n",
      "1     4.753913           0.998906  \n",
      "2     7.588561           1.000016  \n",
      "3     7.588561           1.000016  \n",
      "4    15.290471           1.000000  \n",
      "5    15.290471           1.000000  \n",
      "6    31.539399           1.000000  \n",
      "7    31.539399           1.000000  \n",
      "8    63.445065           1.000000  \n",
      "9    63.445065           1.000000  \n",
      "10  129.296386           1.000000  \n",
      "11  129.296386           1.000000  \n",
      "12  256.092699           1.000000  \n",
      "13  256.092699           1.000000  \n",
      "14  512.201912           1.000000  \n",
      "15  512.201912           1.000000  \n"
     ]
    }
   ],
   "source": [
    "# Set list_num_factors = range(2, 14) to test all sizes\n",
    "list_num_factors = range(2, 10)\n",
    "\n",
    "!rm results/hierarchical_vs_comb.pkl\n",
    "!mkdir results\n",
    "\n",
    "for num_factors in list_num_factors:\n",
    "    %run scripts/hierarchical_comb_vs_balanced \\\n",
    "        --num_factors $num_factors \\\n",
    "        --noise_m 0.0 \\\n",
    "        --main_std 1.0 \\\n",
    "        --matrix random \\\n",
    "        --noise_std 0.1 \\\n",
    "        --perm identity \\\n",
    "        --repeat 1 \\\n",
    "        --results_path results/hierarchical_vs_comb.pkl"
   ]
  },
  {
   "cell_type": "code",
   "execution_count": 14,
   "id": "forbidden-allocation",
   "metadata": {},
   "outputs": [
    {
     "data": {
      "image/png": "[encoded data removed]",
      "text/plain": [
       "<Figure size 576x180 with 1 Axes>"
      ]
     },
     "metadata": {
      "needs_background": "light"
     },
     "output_type": "display_data"
    }
   ],
   "source": [
    "stats = pd.read_pickle(\"results/hierarchical_vs_comb.pkl\")\n",
    "stats_comb = stats[stats[\"tree\"] == \"comb\"]\n",
    "stats_balanced = stats[stats[\"tree\"] == \"balanced\"]\n",
    "\n",
    "fig1, ax1 = plt.subplots(figsize=(8, 2.5))\n",
    "plt.grid()\n",
    "ax1.plot(2 ** stats_comb[\"num_factors\"], stats_comb[\"time\"], marker='.', color='tab:blue', label='Unbalanced tree')\n",
    "ax1.plot(2 ** stats_balanced[\"num_factors\"], stats_balanced[\"time\"], marker='.', color='tab:red', label='Balanced tree')\n",
    "ax1.set_yscale(\"log\")\n",
    "ax1.set_xscale(\"log\")\n",
    "ax1.set_xlabel(\"Size\")\n",
    "ax1.set_ylabel(\"Running time (s)\")\n",
    "ax1.set_xticks(2 ** np.array(range(2, 14)))\n",
    "ax1.set_yticks([0.001, 0.01, 0.1, 1, 10, 100, 1000, 10000])\n",
    "ax1.get_xaxis().set_major_formatter(matplotlib.ticker.ScalarFormatter())\n",
    "ax1.legend()\n",
    "plt.minorticks_off()"
   ]
  },
  {
   "cell_type": "markdown",
   "id": "brutal-period",
   "metadata": {},
   "source": [
    "## Experiment 2: comparing hierarchical factorization vs. iterative gradient-based method"
   ]
  },
  {
   "cell_type": "markdown",
   "id": "binding-villa",
   "metadata": {},
   "source": [
    "We show how to reproduce Figure 3 in the paper."
   ]
  },
  {
   "cell_type": "code",
   "execution_count": 17,
   "id": "arctic-yellow",
   "metadata": {
    "scrolled": true
   },
   "outputs": [
    {
     "name": "stdout",
     "output_type": "stream",
     "text": [
      "\n",
      "EXP_ID: 1/2\n",
      "Iterative gradient descent method: loss=0.5359400165961045, time=0.4595010280609131\n",
      "Balanced hierarchical factorization: loss=0.5360045016031033, time=0.04226946830749512\n",
      "Unbalanced hierarchical factorization: loss=0.5360318787203855, time=0.025043725967407227\n",
      "\n",
      "EXP_ID: 2/2\n",
      "Iterative gradient descent method: loss=0.5787780004283171, time=0.4709503650665283\n",
      "Balanced hierarchical factorization: loss=0.5789086819083851, time=0.022502899169921875\n",
      "Unbalanced hierarchical factorization: loss=0.5788947363594326, time=0.02280712127685547\n",
      "\n",
      "FINAL RESULTS\n",
      "Noise level:\n",
      "[0.7290349116682998, 0.8148746469794003]\n",
      "Loss for gradient iterative method:\n",
      "[0.5359400165961045, 0.5787780004283171]\n",
      "Time for gradient iterative method:\n",
      "[0.4595010280609131, 0.4709503650665283]\n",
      "Loss for hierarchical balanced method:\n",
      "[0.5360045016031033, 0.5789086819083851]\n",
      "Time for hierarchical balanced method:\n",
      "[0.04226946830749512, 0.022502899169921875]\n",
      "Loss for hierarchical unbalanced method:\n",
      "[0.5360318787203855, 0.5788947363594326]\n",
      "Time for hierarchical unbalanced method:\n",
      "[0.025043725967407227, 0.02280712127685547]\n",
      "\n",
      "EXP_ID: 1/2\n",
      "Iterative gradient descent method: loss=5.992180711875192, time=65.86647939682007\n",
      "Balanced hierarchical factorization: loss=5.9923980213690085, time=5.711137056350708\n",
      "Unbalanced hierarchical factorization: loss=5.992546362504782, time=6.001183986663818\n",
      "\n",
      "EXP_ID: 2/2\n"
     ]
    },
    {
     "ename": "KeyboardInterrupt",
     "evalue": "",
     "output_type": "error",
     "traceback": [
      "\u001b[0;31m---------------------------------------------------------------------------\u001b[0m",
      "\u001b[0;31mKeyboardInterrupt\u001b[0m                         Traceback (most recent call last)",
      "\u001b[0;32m~/workspace/butterfly-factorization/scripts/iterative_vs_hierarchical_dft.py\u001b[0m in \u001b[0;36m<module>\u001b[0;34m\u001b[0m\n\u001b[1;32m     51\u001b[0m         \u001b[0mnoise_level\u001b[0m\u001b[0;34m.\u001b[0m\u001b[0mappend\u001b[0m\u001b[0;34m(\u001b[0m\u001b[0mnp\u001b[0m\u001b[0;34m.\u001b[0m\u001b[0mlinalg\u001b[0m\u001b[0;34m.\u001b[0m\u001b[0mnorm\u001b[0m\u001b[0;34m(\u001b[0m\u001b[0mfact_mat\u001b[0m \u001b[0;34m-\u001b[0m \u001b[0mscipy\u001b[0m\u001b[0;34m.\u001b[0m\u001b[0mlinalg\u001b[0m\u001b[0;34m.\u001b[0m\u001b[0mdft\u001b[0m\u001b[0;34m(\u001b[0m\u001b[0msize\u001b[0m\u001b[0;34m)\u001b[0m\u001b[0;34m)\u001b[0m\u001b[0;34m)\u001b[0m\u001b[0;34m\u001b[0m\u001b[0;34m\u001b[0m\u001b[0m\n\u001b[1;32m     52\u001b[0m         \u001b[0mbf\u001b[0m \u001b[0;34m=\u001b[0m \u001b[0mButterflyFact_BuiltinComplex\u001b[0m\u001b[0;34m(\u001b[0m\u001b[0marg\u001b[0m\u001b[0;34m.\u001b[0m\u001b[0mk\u001b[0m\u001b[0;34m,\u001b[0m \u001b[0mfact_mat\u001b[0m\u001b[0;34m,\u001b[0m \u001b[0;32mTrue\u001b[0m\u001b[0;34m)\u001b[0m\u001b[0;34m\u001b[0m\u001b[0;34m\u001b[0m\u001b[0m\n\u001b[0;32m---> 53\u001b[0;31m         \u001b[0mrunning_time\u001b[0m\u001b[0;34m,\u001b[0m \u001b[0maccuracy\u001b[0m\u001b[0;34m,\u001b[0m \u001b[0m_\u001b[0m\u001b[0;34m,\u001b[0m \u001b[0m_\u001b[0m \u001b[0;34m=\u001b[0m \u001b[0mbf\u001b[0m\u001b[0;34m.\u001b[0m\u001b[0mtraining\u001b[0m\u001b[0;34m(\u001b[0m\u001b[0mlr\u001b[0m\u001b[0;34m,\u001b[0m \u001b[0moptimize\u001b[0m\u001b[0;34m=\u001b[0m\u001b[0;34m'Adam'\u001b[0m\u001b[0;34m,\u001b[0m \u001b[0mnum_iter\u001b[0m\u001b[0;34m=\u001b[0m\u001b[0;36m50\u001b[0m\u001b[0;34m)\u001b[0m\u001b[0;34m\u001b[0m\u001b[0;34m\u001b[0m\u001b[0m\n\u001b[0m\u001b[1;32m     54\u001b[0m         \u001b[0mloss\u001b[0m \u001b[0;34m=\u001b[0m \u001b[0mnp\u001b[0m\u001b[0;34m.\u001b[0m\u001b[0msqrt\u001b[0m\u001b[0;34m(\u001b[0m\u001b[0;36m2\u001b[0m \u001b[0;34m*\u001b[0m \u001b[0maccuracy\u001b[0m\u001b[0;34m[\u001b[0m\u001b[0;36m0\u001b[0m\u001b[0;34m]\u001b[0m\u001b[0;34m.\u001b[0m\u001b[0mitem\u001b[0m\u001b[0;34m(\u001b[0m\u001b[0;34m)\u001b[0m\u001b[0;34m)\u001b[0m\u001b[0;34m\u001b[0m\u001b[0;34m\u001b[0m\u001b[0m\n\u001b[1;32m     55\u001b[0m         \u001b[0mprint\u001b[0m\u001b[0;34m(\u001b[0m\u001b[0;34mf\"Iterative gradient descent method: loss={loss}, time={running_time[0]}\"\u001b[0m\u001b[0;34m)\u001b[0m\u001b[0;34m\u001b[0m\u001b[0;34m\u001b[0m\u001b[0m\n",
      "\u001b[0;32m~/workspace/butterfly-factorization/src/iterative_grad_fact.py\u001b[0m in \u001b[0;36mtraining\u001b[0;34m(self, lr, num_iter, optimize, stopping_time, verbal, time_record)\u001b[0m\n\u001b[1;32m    191\u001b[0m                 \u001b[0mrefine_begin\u001b[0m \u001b[0;34m=\u001b[0m \u001b[0mtime\u001b[0m\u001b[0;34m.\u001b[0m\u001b[0mtime\u001b[0m\u001b[0;34m(\u001b[0m\u001b[0;34m)\u001b[0m\u001b[0;34m\u001b[0m\u001b[0;34m\u001b[0m\u001b[0m\n\u001b[1;32m    192\u001b[0m                 \u001b[0;32mif\u001b[0m \u001b[0;32mnot\u001b[0m \u001b[0mtime_record\u001b[0m\u001b[0;34m:\u001b[0m\u001b[0;34m\u001b[0m\u001b[0;34m\u001b[0m\u001b[0m\n\u001b[0;32m--> 193\u001b[0;31m                     \u001b[0maccuracy\u001b[0m\u001b[0;34m.\u001b[0m\u001b[0mappend\u001b[0m\u001b[0;34m(\u001b[0m\u001b[0mself\u001b[0m\u001b[0;34m.\u001b[0m\u001b[0mrefining\u001b[0m\u001b[0;34m(\u001b[0m\u001b[0;34m)\u001b[0m\u001b[0;34m)\u001b[0m\u001b[0;34m\u001b[0m\u001b[0;34m\u001b[0m\u001b[0m\n\u001b[0m\u001b[1;32m    194\u001b[0m                 \u001b[0;32melse\u001b[0m\u001b[0;34m:\u001b[0m\u001b[0;34m\u001b[0m\u001b[0;34m\u001b[0m\u001b[0m\n\u001b[1;32m    195\u001b[0m                     \u001b[0macc\u001b[0m\u001b[0;34m,\u001b[0m \u001b[0mrefine_loss\u001b[0m\u001b[0;34m,\u001b[0m \u001b[0mrefine_temps\u001b[0m \u001b[0;34m=\u001b[0m \u001b[0mself\u001b[0m\u001b[0;34m.\u001b[0m\u001b[0mrefining\u001b[0m\u001b[0;34m(\u001b[0m\u001b[0mtime_record\u001b[0m \u001b[0;34m=\u001b[0m \u001b[0;32mTrue\u001b[0m\u001b[0;34m)\u001b[0m\u001b[0;34m\u001b[0m\u001b[0;34m\u001b[0m\u001b[0m\n",
      "\u001b[0;32m~/workspace/butterfly-factorization/src/iterative_grad_fact.py\u001b[0m in \u001b[0;36mrefining\u001b[0;34m(self, num_iter, time_record)\u001b[0m\n\u001b[1;32m    245\u001b[0m         \u001b[0;32mfor\u001b[0m \u001b[0mindex\u001b[0m \u001b[0;32min\u001b[0m \u001b[0mrange\u001b[0m\u001b[0;34m(\u001b[0m\u001b[0mnum_iter\u001b[0m\u001b[0;34m)\u001b[0m\u001b[0;34m:\u001b[0m\u001b[0;34m\u001b[0m\u001b[0;34m\u001b[0m\u001b[0m\n\u001b[1;32m    246\u001b[0m             \u001b[0mbegin\u001b[0m \u001b[0;34m=\u001b[0m \u001b[0mtime\u001b[0m\u001b[0;34m.\u001b[0m\u001b[0mtime\u001b[0m\u001b[0;34m(\u001b[0m\u001b[0;34m)\u001b[0m\u001b[0;34m\u001b[0m\u001b[0;34m\u001b[0m\u001b[0m\n\u001b[0;32m--> 247\u001b[0;31m             \u001b[0moptimizer\u001b[0m\u001b[0;34m.\u001b[0m\u001b[0mstep\u001b[0m\u001b[0;34m(\u001b[0m\u001b[0mclosure\u001b[0m\u001b[0;34m)\u001b[0m\u001b[0;34m\u001b[0m\u001b[0;34m\u001b[0m\u001b[0m\n\u001b[0m\u001b[1;32m    248\u001b[0m             \u001b[0mend\u001b[0m \u001b[0;34m=\u001b[0m \u001b[0mtime\u001b[0m\u001b[0;34m.\u001b[0m\u001b[0mtime\u001b[0m\u001b[0;34m(\u001b[0m\u001b[0;34m)\u001b[0m\u001b[0;34m\u001b[0m\u001b[0;34m\u001b[0m\u001b[0m\n\u001b[1;32m    249\u001b[0m             \u001b[0mrunning_time\u001b[0m\u001b[0;34m.\u001b[0m\u001b[0mappend\u001b[0m\u001b[0;34m(\u001b[0m\u001b[0mend\u001b[0m \u001b[0;34m-\u001b[0m \u001b[0mbegin\u001b[0m\u001b[0;34m)\u001b[0m\u001b[0;34m\u001b[0m\u001b[0;34m\u001b[0m\u001b[0m\n",
      "\u001b[0;32m/opt/conda/lib/python3.7/site-packages/torch/optim/optimizer.py\u001b[0m in \u001b[0;36mwrapper\u001b[0;34m(*args, **kwargs)\u001b[0m\n\u001b[1;32m     87\u001b[0m                 \u001b[0mprofile_name\u001b[0m \u001b[0;34m=\u001b[0m \u001b[0;34m\"Optimizer.step#{}.step\"\u001b[0m\u001b[0;34m.\u001b[0m\u001b[0mformat\u001b[0m\u001b[0;34m(\u001b[0m\u001b[0mobj\u001b[0m\u001b[0;34m.\u001b[0m\u001b[0m__class__\u001b[0m\u001b[0;34m.\u001b[0m\u001b[0m__name__\u001b[0m\u001b[0;34m)\u001b[0m\u001b[0;34m\u001b[0m\u001b[0;34m\u001b[0m\u001b[0m\n\u001b[1;32m     88\u001b[0m                 \u001b[0;32mwith\u001b[0m \u001b[0mtorch\u001b[0m\u001b[0;34m.\u001b[0m\u001b[0mautograd\u001b[0m\u001b[0;34m.\u001b[0m\u001b[0mprofiler\u001b[0m\u001b[0;34m.\u001b[0m\u001b[0mrecord_function\u001b[0m\u001b[0;34m(\u001b[0m\u001b[0mprofile_name\u001b[0m\u001b[0;34m)\u001b[0m\u001b[0;34m:\u001b[0m\u001b[0;34m\u001b[0m\u001b[0;34m\u001b[0m\u001b[0m\n\u001b[0;32m---> 89\u001b[0;31m                     \u001b[0;32mreturn\u001b[0m \u001b[0mfunc\u001b[0m\u001b[0;34m(\u001b[0m\u001b[0;34m*\u001b[0m\u001b[0margs\u001b[0m\u001b[0;34m,\u001b[0m \u001b[0;34m**\u001b[0m\u001b[0mkwargs\u001b[0m\u001b[0;34m)\u001b[0m\u001b[0;34m\u001b[0m\u001b[0;34m\u001b[0m\u001b[0m\n\u001b[0m\u001b[1;32m     90\u001b[0m             \u001b[0;32mreturn\u001b[0m \u001b[0mwrapper\u001b[0m\u001b[0;34m\u001b[0m\u001b[0;34m\u001b[0m\u001b[0m\n\u001b[1;32m     91\u001b[0m \u001b[0;34m\u001b[0m\u001b[0m\n",
      "\u001b[0;32m/opt/conda/lib/python3.7/site-packages/torch/autograd/grad_mode.py\u001b[0m in \u001b[0;36mdecorate_context\u001b[0;34m(*args, **kwargs)\u001b[0m\n\u001b[1;32m     25\u001b[0m         \u001b[0;32mdef\u001b[0m \u001b[0mdecorate_context\u001b[0m\u001b[0;34m(\u001b[0m\u001b[0;34m*\u001b[0m\u001b[0margs\u001b[0m\u001b[0;34m,\u001b[0m \u001b[0;34m**\u001b[0m\u001b[0mkwargs\u001b[0m\u001b[0;34m)\u001b[0m\u001b[0;34m:\u001b[0m\u001b[0;34m\u001b[0m\u001b[0;34m\u001b[0m\u001b[0m\n\u001b[1;32m     26\u001b[0m             \u001b[0;32mwith\u001b[0m \u001b[0mself\u001b[0m\u001b[0;34m.\u001b[0m\u001b[0m__class__\u001b[0m\u001b[0;34m(\u001b[0m\u001b[0;34m)\u001b[0m\u001b[0;34m:\u001b[0m\u001b[0;34m\u001b[0m\u001b[0;34m\u001b[0m\u001b[0m\n\u001b[0;32m---> 27\u001b[0;31m                 \u001b[0;32mreturn\u001b[0m \u001b[0mfunc\u001b[0m\u001b[0;34m(\u001b[0m\u001b[0;34m*\u001b[0m\u001b[0margs\u001b[0m\u001b[0;34m,\u001b[0m \u001b[0;34m**\u001b[0m\u001b[0mkwargs\u001b[0m\u001b[0;34m)\u001b[0m\u001b[0;34m\u001b[0m\u001b[0;34m\u001b[0m\u001b[0m\n\u001b[0m\u001b[1;32m     28\u001b[0m         \u001b[0;32mreturn\u001b[0m \u001b[0mcast\u001b[0m\u001b[0;34m(\u001b[0m\u001b[0mF\u001b[0m\u001b[0;34m,\u001b[0m \u001b[0mdecorate_context\u001b[0m\u001b[0;34m)\u001b[0m\u001b[0;34m\u001b[0m\u001b[0;34m\u001b[0m\u001b[0m\n\u001b[1;32m     29\u001b[0m \u001b[0;34m\u001b[0m\u001b[0m\n",
      "\u001b[0;32m/opt/conda/lib/python3.7/site-packages/torch/optim/lbfgs.py\u001b[0m in \u001b[0;36mstep\u001b[0;34m(self, closure)\u001b[0m\n\u001b[1;32m    424\u001b[0m \u001b[0;34m\u001b[0m\u001b[0m\n\u001b[1;32m    425\u001b[0m                     loss, flat_grad, t, ls_func_evals = _strong_wolfe(\n\u001b[0;32m--> 426\u001b[0;31m                         obj_func, x_init, t, d, loss, flat_grad, gtd)\n\u001b[0m\u001b[1;32m    427\u001b[0m                 \u001b[0mself\u001b[0m\u001b[0;34m.\u001b[0m\u001b[0m_add_grad\u001b[0m\u001b[0;34m(\u001b[0m\u001b[0mt\u001b[0m\u001b[0;34m,\u001b[0m \u001b[0md\u001b[0m\u001b[0;34m)\u001b[0m\u001b[0;34m\u001b[0m\u001b[0;34m\u001b[0m\u001b[0m\n\u001b[1;32m    428\u001b[0m                 \u001b[0mopt_cond\u001b[0m \u001b[0;34m=\u001b[0m \u001b[0mflat_grad\u001b[0m\u001b[0;34m.\u001b[0m\u001b[0mabs\u001b[0m\u001b[0;34m(\u001b[0m\u001b[0;34m)\u001b[0m\u001b[0;34m.\u001b[0m\u001b[0mmax\u001b[0m\u001b[0;34m(\u001b[0m\u001b[0;34m)\u001b[0m \u001b[0;34m<=\u001b[0m \u001b[0mtolerance_grad\u001b[0m\u001b[0;34m\u001b[0m\u001b[0;34m\u001b[0m\u001b[0m\n",
      "\u001b[0;32m/opt/conda/lib/python3.7/site-packages/torch/optim/lbfgs.py\u001b[0m in \u001b[0;36m_strong_wolfe\u001b[0;34m(obj_func, x, t, d, f, g, gtd, c1, c2, tolerance_change, max_ls)\u001b[0m\n\u001b[1;32m     47\u001b[0m     \u001b[0mg\u001b[0m \u001b[0;34m=\u001b[0m \u001b[0mg\u001b[0m\u001b[0;34m.\u001b[0m\u001b[0mclone\u001b[0m\u001b[0;34m(\u001b[0m\u001b[0mmemory_format\u001b[0m\u001b[0;34m=\u001b[0m\u001b[0mtorch\u001b[0m\u001b[0;34m.\u001b[0m\u001b[0mcontiguous_format\u001b[0m\u001b[0;34m)\u001b[0m\u001b[0;34m\u001b[0m\u001b[0;34m\u001b[0m\u001b[0m\n\u001b[1;32m     48\u001b[0m     \u001b[0;31m# evaluate objective and gradient using initial step\u001b[0m\u001b[0;34m\u001b[0m\u001b[0;34m\u001b[0m\u001b[0;34m\u001b[0m\u001b[0m\n\u001b[0;32m---> 49\u001b[0;31m     \u001b[0mf_new\u001b[0m\u001b[0;34m,\u001b[0m \u001b[0mg_new\u001b[0m \u001b[0;34m=\u001b[0m \u001b[0mobj_func\u001b[0m\u001b[0;34m(\u001b[0m\u001b[0mx\u001b[0m\u001b[0;34m,\u001b[0m \u001b[0mt\u001b[0m\u001b[0;34m,\u001b[0m \u001b[0md\u001b[0m\u001b[0;34m)\u001b[0m\u001b[0;34m\u001b[0m\u001b[0;34m\u001b[0m\u001b[0m\n\u001b[0m\u001b[1;32m     50\u001b[0m     \u001b[0mls_func_evals\u001b[0m \u001b[0;34m=\u001b[0m \u001b[0;36m1\u001b[0m\u001b[0;34m\u001b[0m\u001b[0;34m\u001b[0m\u001b[0m\n\u001b[1;32m     51\u001b[0m     \u001b[0mgtd_new\u001b[0m \u001b[0;34m=\u001b[0m \u001b[0mg_new\u001b[0m\u001b[0;34m.\u001b[0m\u001b[0mdot\u001b[0m\u001b[0;34m(\u001b[0m\u001b[0md\u001b[0m\u001b[0;34m)\u001b[0m\u001b[0;34m\u001b[0m\u001b[0;34m\u001b[0m\u001b[0m\n",
      "\u001b[0;32m/opt/conda/lib/python3.7/site-packages/torch/optim/lbfgs.py\u001b[0m in \u001b[0;36mobj_func\u001b[0;34m(x, t, d)\u001b[0m\n\u001b[1;32m    421\u001b[0m \u001b[0;34m\u001b[0m\u001b[0m\n\u001b[1;32m    422\u001b[0m                     \u001b[0;32mdef\u001b[0m \u001b[0mobj_func\u001b[0m\u001b[0;34m(\u001b[0m\u001b[0mx\u001b[0m\u001b[0;34m,\u001b[0m \u001b[0mt\u001b[0m\u001b[0;34m,\u001b[0m \u001b[0md\u001b[0m\u001b[0;34m)\u001b[0m\u001b[0;34m:\u001b[0m\u001b[0;34m\u001b[0m\u001b[0;34m\u001b[0m\u001b[0m\n\u001b[0;32m--> 423\u001b[0;31m                         \u001b[0;32mreturn\u001b[0m \u001b[0mself\u001b[0m\u001b[0;34m.\u001b[0m\u001b[0m_directional_evaluate\u001b[0m\u001b[0;34m(\u001b[0m\u001b[0mclosure\u001b[0m\u001b[0;34m,\u001b[0m \u001b[0mx\u001b[0m\u001b[0;34m,\u001b[0m \u001b[0mt\u001b[0m\u001b[0;34m,\u001b[0m \u001b[0md\u001b[0m\u001b[0;34m)\u001b[0m\u001b[0;34m\u001b[0m\u001b[0;34m\u001b[0m\u001b[0m\n\u001b[0m\u001b[1;32m    424\u001b[0m \u001b[0;34m\u001b[0m\u001b[0m\n\u001b[1;32m    425\u001b[0m                     loss, flat_grad, t, ls_func_evals = _strong_wolfe(\n",
      "\u001b[0;32m/opt/conda/lib/python3.7/site-packages/torch/optim/lbfgs.py\u001b[0m in \u001b[0;36m_directional_evaluate\u001b[0;34m(self, closure, x, t, d)\u001b[0m\n\u001b[1;32m    275\u001b[0m     \u001b[0;32mdef\u001b[0m \u001b[0m_directional_evaluate\u001b[0m\u001b[0;34m(\u001b[0m\u001b[0mself\u001b[0m\u001b[0;34m,\u001b[0m \u001b[0mclosure\u001b[0m\u001b[0;34m,\u001b[0m \u001b[0mx\u001b[0m\u001b[0;34m,\u001b[0m \u001b[0mt\u001b[0m\u001b[0;34m,\u001b[0m \u001b[0md\u001b[0m\u001b[0;34m)\u001b[0m\u001b[0;34m:\u001b[0m\u001b[0;34m\u001b[0m\u001b[0;34m\u001b[0m\u001b[0m\n\u001b[1;32m    276\u001b[0m         \u001b[0mself\u001b[0m\u001b[0;34m.\u001b[0m\u001b[0m_add_grad\u001b[0m\u001b[0;34m(\u001b[0m\u001b[0mt\u001b[0m\u001b[0;34m,\u001b[0m \u001b[0md\u001b[0m\u001b[0;34m)\u001b[0m\u001b[0;34m\u001b[0m\u001b[0;34m\u001b[0m\u001b[0m\n\u001b[0;32m--> 277\u001b[0;31m         \u001b[0mloss\u001b[0m \u001b[0;34m=\u001b[0m \u001b[0mfloat\u001b[0m\u001b[0;34m(\u001b[0m\u001b[0mclosure\u001b[0m\u001b[0;34m(\u001b[0m\u001b[0;34m)\u001b[0m\u001b[0;34m)\u001b[0m\u001b[0;34m\u001b[0m\u001b[0;34m\u001b[0m\u001b[0m\n\u001b[0m\u001b[1;32m    278\u001b[0m         \u001b[0mflat_grad\u001b[0m \u001b[0;34m=\u001b[0m \u001b[0mself\u001b[0m\u001b[0;34m.\u001b[0m\u001b[0m_gather_flat_grad\u001b[0m\u001b[0;34m(\u001b[0m\u001b[0;34m)\u001b[0m\u001b[0;34m\u001b[0m\u001b[0;34m\u001b[0m\u001b[0m\n\u001b[1;32m    279\u001b[0m         \u001b[0mself\u001b[0m\u001b[0;34m.\u001b[0m\u001b[0m_set_param\u001b[0m\u001b[0;34m(\u001b[0m\u001b[0mx\u001b[0m\u001b[0;34m)\u001b[0m\u001b[0;34m\u001b[0m\u001b[0;34m\u001b[0m\u001b[0m\n",
      "\u001b[0;32m/opt/conda/lib/python3.7/site-packages/torch/autograd/grad_mode.py\u001b[0m in \u001b[0;36mdecorate_context\u001b[0;34m(*args, **kwargs)\u001b[0m\n\u001b[1;32m     25\u001b[0m         \u001b[0;32mdef\u001b[0m \u001b[0mdecorate_context\u001b[0m\u001b[0;34m(\u001b[0m\u001b[0;34m*\u001b[0m\u001b[0margs\u001b[0m\u001b[0;34m,\u001b[0m \u001b[0;34m**\u001b[0m\u001b[0mkwargs\u001b[0m\u001b[0;34m)\u001b[0m\u001b[0;34m:\u001b[0m\u001b[0;34m\u001b[0m\u001b[0;34m\u001b[0m\u001b[0m\n\u001b[1;32m     26\u001b[0m             \u001b[0;32mwith\u001b[0m \u001b[0mself\u001b[0m\u001b[0;34m.\u001b[0m\u001b[0m__class__\u001b[0m\u001b[0;34m(\u001b[0m\u001b[0;34m)\u001b[0m\u001b[0;34m:\u001b[0m\u001b[0;34m\u001b[0m\u001b[0;34m\u001b[0m\u001b[0m\n\u001b[0;32m---> 27\u001b[0;31m                 \u001b[0;32mreturn\u001b[0m \u001b[0mfunc\u001b[0m\u001b[0;34m(\u001b[0m\u001b[0;34m*\u001b[0m\u001b[0margs\u001b[0m\u001b[0;34m,\u001b[0m \u001b[0;34m**\u001b[0m\u001b[0mkwargs\u001b[0m\u001b[0;34m)\u001b[0m\u001b[0;34m\u001b[0m\u001b[0;34m\u001b[0m\u001b[0m\n\u001b[0m\u001b[1;32m     28\u001b[0m         \u001b[0;32mreturn\u001b[0m \u001b[0mcast\u001b[0m\u001b[0;34m(\u001b[0m\u001b[0mF\u001b[0m\u001b[0;34m,\u001b[0m \u001b[0mdecorate_context\u001b[0m\u001b[0;34m)\u001b[0m\u001b[0;34m\u001b[0m\u001b[0;34m\u001b[0m\u001b[0m\n\u001b[1;32m     29\u001b[0m \u001b[0;34m\u001b[0m\u001b[0m\n",
      "\u001b[0;32m~/workspace/butterfly-factorization/src/iterative_grad_fact.py\u001b[0m in \u001b[0;36mclosure\u001b[0;34m()\u001b[0m\n\u001b[1;32m    237\u001b[0m                         \u001b[0mZ_real\u001b[0m \u001b[0;34m=\u001b[0m \u001b[0mtorch\u001b[0m\u001b[0;34m.\u001b[0m\u001b[0mmm\u001b[0m\u001b[0;34m(\u001b[0m\u001b[0mZ_real\u001b[0m\u001b[0;34m,\u001b[0m \u001b[0mtorch\u001b[0m\u001b[0;34m.\u001b[0m\u001b[0meye\u001b[0m\u001b[0;34m(\u001b[0m\u001b[0mself\u001b[0m\u001b[0;34m.\u001b[0m\u001b[0msize\u001b[0m\u001b[0;34m)\u001b[0m \u001b[0;34m*\u001b[0m \u001b[0mlogits\u001b[0m\u001b[0;34m[\u001b[0m\u001b[0mj\u001b[0m\u001b[0;34m]\u001b[0m \u001b[0;34m+\u001b[0m \u001b[0mself\u001b[0m\u001b[0;34m.\u001b[0m\u001b[0mpermutation\u001b[0m\u001b[0;34m[\u001b[0m\u001b[0mi\u001b[0m \u001b[0;34m*\u001b[0m \u001b[0;36m3\u001b[0m \u001b[0;34m+\u001b[0m \u001b[0mj\u001b[0m\u001b[0;34m]\u001b[0m \u001b[0;34m*\u001b[0m \u001b[0;34m(\u001b[0m\u001b[0;36m1\u001b[0m \u001b[0;34m-\u001b[0m \u001b[0mlogits\u001b[0m\u001b[0;34m[\u001b[0m\u001b[0mj\u001b[0m\u001b[0;34m]\u001b[0m\u001b[0;34m)\u001b[0m\u001b[0;34m)\u001b[0m\u001b[0;34m\u001b[0m\u001b[0;34m\u001b[0m\u001b[0m\n\u001b[1;32m    238\u001b[0m                         \u001b[0mZ_imag\u001b[0m \u001b[0;34m=\u001b[0m \u001b[0mtorch\u001b[0m\u001b[0;34m.\u001b[0m\u001b[0mmm\u001b[0m\u001b[0;34m(\u001b[0m\u001b[0mZ_imag\u001b[0m\u001b[0;34m,\u001b[0m \u001b[0mtorch\u001b[0m\u001b[0;34m.\u001b[0m\u001b[0meye\u001b[0m\u001b[0;34m(\u001b[0m\u001b[0mself\u001b[0m\u001b[0;34m.\u001b[0m\u001b[0msize\u001b[0m\u001b[0;34m)\u001b[0m \u001b[0;34m*\u001b[0m \u001b[0mlogits\u001b[0m\u001b[0;34m[\u001b[0m\u001b[0mj\u001b[0m\u001b[0;34m]\u001b[0m \u001b[0;34m+\u001b[0m \u001b[0mself\u001b[0m\u001b[0;34m.\u001b[0m\u001b[0mpermutation\u001b[0m\u001b[0;34m[\u001b[0m\u001b[0mi\u001b[0m \u001b[0;34m*\u001b[0m \u001b[0;36m3\u001b[0m \u001b[0;34m+\u001b[0m \u001b[0mj\u001b[0m\u001b[0;34m]\u001b[0m \u001b[0;34m*\u001b[0m \u001b[0;34m(\u001b[0m\u001b[0;36m1\u001b[0m \u001b[0;34m-\u001b[0m \u001b[0mlogits\u001b[0m\u001b[0;34m[\u001b[0m\u001b[0mj\u001b[0m\u001b[0;34m]\u001b[0m\u001b[0;34m)\u001b[0m\u001b[0;34m)\u001b[0m\u001b[0;34m\u001b[0m\u001b[0;34m\u001b[0m\u001b[0m\n\u001b[0;32m--> 239\u001b[0;31m             \u001b[0mloss\u001b[0m \u001b[0;34m=\u001b[0m \u001b[0;36m0.5\u001b[0m \u001b[0;34m*\u001b[0m \u001b[0mtorch\u001b[0m\u001b[0;34m.\u001b[0m\u001b[0msum\u001b[0m\u001b[0;34m(\u001b[0m\u001b[0;34m(\u001b[0m\u001b[0mZ_real\u001b[0m \u001b[0;34m-\u001b[0m \u001b[0mself\u001b[0m\u001b[0;34m.\u001b[0m\u001b[0mA_real\u001b[0m\u001b[0;34m)\u001b[0m \u001b[0;34m**\u001b[0m \u001b[0;36m2\u001b[0m\u001b[0;34m)\u001b[0m \u001b[0;34m+\u001b[0m \u001b[0;36m0.5\u001b[0m \u001b[0;34m*\u001b[0m \u001b[0mtorch\u001b[0m\u001b[0;34m.\u001b[0m\u001b[0msum\u001b[0m\u001b[0;34m(\u001b[0m\u001b[0;34m(\u001b[0m\u001b[0mZ_imag\u001b[0m \u001b[0;34m-\u001b[0m \u001b[0mself\u001b[0m\u001b[0;34m.\u001b[0m\u001b[0mA_imag\u001b[0m\u001b[0;34m)\u001b[0m \u001b[0;34m**\u001b[0m \u001b[0;36m2\u001b[0m\u001b[0;34m)\u001b[0m\u001b[0;34m\u001b[0m\u001b[0;34m\u001b[0m\u001b[0m\n\u001b[0m\u001b[1;32m    240\u001b[0m             \u001b[0mloss\u001b[0m\u001b[0;34m.\u001b[0m\u001b[0mbackward\u001b[0m\u001b[0;34m(\u001b[0m\u001b[0;34m)\u001b[0m\u001b[0;34m\u001b[0m\u001b[0;34m\u001b[0m\u001b[0m\n\u001b[1;32m    241\u001b[0m             \u001b[0;32mreturn\u001b[0m \u001b[0mloss\u001b[0m\u001b[0;34m\u001b[0m\u001b[0;34m\u001b[0m\u001b[0m\n",
      "\u001b[0;31mKeyboardInterrupt\u001b[0m: "
     ]
    }
   ],
   "source": [
    "# Set listJ = [3, 6, 9] to reproduce the whole figure\n",
    "# Set trial to 10 to reproduce several time the experiment\n",
    "listJ = [3, 6]\n",
    "\n",
    "for num_factors in listJ:\n",
    "    %run scripts/iterative_vs_hierarchical_dft \\\n",
    "        --k $num_factors \\\n",
    "        --sigma 0.01 \\\n",
    "        --trial 2 \\\n",
    "        --results_path results/iterative_vs_hier_{num_factors}.npz"
   ]
  },
  {
   "cell_type": "code",
   "execution_count": 16,
   "id": "about-taylor",
   "metadata": {},
   "outputs": [
    {
     "ename": "FileNotFoundError",
     "evalue": "[Errno 2] No such file or directory: 'results/iterative_vs_hier_6.npz'",
     "output_type": "error",
     "traceback": [
      "\u001b[0;31m---------------------------------------------------------------------------\u001b[0m",
      "\u001b[0;31mFileNotFoundError\u001b[0m                         Traceback (most recent call last)",
      "\u001b[0;32m<ipython-input-16-369bd616ab62>\u001b[0m in \u001b[0;36m<module>\u001b[0;34m\u001b[0m\n\u001b[1;32m     12\u001b[0m \u001b[0;34m\u001b[0m\u001b[0m\n\u001b[1;32m     13\u001b[0m \u001b[0;32mfor\u001b[0m \u001b[0mk\u001b[0m \u001b[0;32min\u001b[0m \u001b[0mlistJ\u001b[0m\u001b[0;34m:\u001b[0m\u001b[0;34m\u001b[0m\u001b[0;34m\u001b[0m\u001b[0m\n\u001b[0;32m---> 14\u001b[0;31m     \u001b[0ma\u001b[0m \u001b[0;34m=\u001b[0m \u001b[0mnp\u001b[0m\u001b[0;34m.\u001b[0m\u001b[0mload\u001b[0m\u001b[0;34m(\u001b[0m\u001b[0;34mf\"results/iterative_vs_hier_{k}.npz\"\u001b[0m\u001b[0;34m)\u001b[0m\u001b[0;34m\u001b[0m\u001b[0;34m\u001b[0m\u001b[0m\n\u001b[0m\u001b[1;32m     15\u001b[0m     \u001b[0mA1\u001b[0m\u001b[0;34m.\u001b[0m\u001b[0mappend\u001b[0m\u001b[0;34m(\u001b[0m\u001b[0ma\u001b[0m\u001b[0;34m[\u001b[0m\u001b[0;34m\"acc_iter\"\u001b[0m\u001b[0;34m]\u001b[0m\u001b[0;34m)\u001b[0m\u001b[0;34m\u001b[0m\u001b[0;34m\u001b[0m\u001b[0m\n\u001b[1;32m     16\u001b[0m     \u001b[0mA2\u001b[0m\u001b[0;34m.\u001b[0m\u001b[0mappend\u001b[0m\u001b[0;34m(\u001b[0m\u001b[0ma\u001b[0m\u001b[0;34m[\u001b[0m\u001b[0;34m\"acc_balanced\"\u001b[0m\u001b[0;34m]\u001b[0m\u001b[0;34m)\u001b[0m\u001b[0;34m\u001b[0m\u001b[0;34m\u001b[0m\u001b[0m\n",
      "\u001b[0;32m/opt/conda/lib/python3.7/site-packages/numpy/lib/npyio.py\u001b[0m in \u001b[0;36mload\u001b[0;34m(file, mmap_mode, allow_pickle, fix_imports, encoding)\u001b[0m\n\u001b[1;32m    415\u001b[0m             \u001b[0mown_fid\u001b[0m \u001b[0;34m=\u001b[0m \u001b[0;32mFalse\u001b[0m\u001b[0;34m\u001b[0m\u001b[0;34m\u001b[0m\u001b[0m\n\u001b[1;32m    416\u001b[0m         \u001b[0;32melse\u001b[0m\u001b[0;34m:\u001b[0m\u001b[0;34m\u001b[0m\u001b[0;34m\u001b[0m\u001b[0m\n\u001b[0;32m--> 417\u001b[0;31m             \u001b[0mfid\u001b[0m \u001b[0;34m=\u001b[0m \u001b[0mstack\u001b[0m\u001b[0;34m.\u001b[0m\u001b[0menter_context\u001b[0m\u001b[0;34m(\u001b[0m\u001b[0mopen\u001b[0m\u001b[0;34m(\u001b[0m\u001b[0mos_fspath\u001b[0m\u001b[0;34m(\u001b[0m\u001b[0mfile\u001b[0m\u001b[0;34m)\u001b[0m\u001b[0;34m,\u001b[0m \u001b[0;34m\"rb\"\u001b[0m\u001b[0;34m)\u001b[0m\u001b[0;34m)\u001b[0m\u001b[0;34m\u001b[0m\u001b[0;34m\u001b[0m\u001b[0m\n\u001b[0m\u001b[1;32m    418\u001b[0m             \u001b[0mown_fid\u001b[0m \u001b[0;34m=\u001b[0m \u001b[0;32mTrue\u001b[0m\u001b[0;34m\u001b[0m\u001b[0;34m\u001b[0m\u001b[0m\n\u001b[1;32m    419\u001b[0m \u001b[0;34m\u001b[0m\u001b[0m\n",
      "\u001b[0;31mFileNotFoundError\u001b[0m: [Errno 2] No such file or directory: 'results/iterative_vs_hier_6.npz'"
     ]
    }
   ],
   "source": [
    "import numpy as np\n",
    "import matplotlib.patches as mpatches\n",
    "import matplotlib.lines as mlines\n",
    "\n",
    "A1 = []\n",
    "T1 = []\n",
    "A2 = []\n",
    "T2 = []\n",
    "A3 = []\n",
    "T3 = []\n",
    "N = []\n",
    "\n",
    "for k in listJ:\n",
    "    a = np.load(f\"results/iterative_vs_hier_{k}.npz\")\n",
    "    A1.append(a[\"acc_iter\"])\n",
    "    A2.append(a[\"acc_balanced\"])\n",
    "    A3.append(a[\"acc_unbalanced\"])\n",
    "    T1.append(a[\"time_iter\"])\n",
    "    T2.append(a[\"time_balanced\"])\n",
    "    T3.append(a[\"time_unbalanced\"])\n",
    "    N.append(a[\"noise\"])\n",
    "\n",
    "\n",
    "A1 = np.log10(np.array(A1)) #in the training code, A1 = 0.5 * \\|\\|_F^2\n",
    "A2 = np.log10(np.array(A2))\n",
    "A3 = np.log10(np.array(A3))\n",
    "T1 = np.log10(np.array(T1))\n",
    "T2 = np.log10(np.array(T2))\n",
    "T3 = np.log10(np.array(T3))\n",
    "\n",
    "A1_mean = np.mean(A1, axis = 1)\n",
    "A1_max = np.max(A1, axis = 1)\n",
    "A1_min = np.min(A1, axis = 1)\n",
    "A1_std = np.std(A1, axis = 1)\n",
    "\n",
    "A2_mean = np.mean(A2, axis = 1)\n",
    "A2_max = np.max(A2, axis = 1)\n",
    "A2_min = np.min(A2, axis = 1)\n",
    "A2_std = np.std(A2, axis = 1)\n",
    "\n",
    "T1_mean = np.mean(T1, axis = 1)\n",
    "T1_max = np.max(T1, axis = 1)\n",
    "T1_min = np.min(T1, axis = 1)\n",
    "T1_std = np.std(T1, axis = 1)\n",
    "\n",
    "T2_mean = np.mean(T2, axis = 1)\n",
    "T2_std = np.std(T2, axis = 1)\n",
    "T2_max = np.max(T2, axis = 1)\n",
    "T2_min = np.min(T2, axis = 1)\n",
    "\n",
    "A3_mean = np.mean(A3, axis = 1) \n",
    "A3_max = np.max(A3, axis = 1)\n",
    "A3_min = np.min(A3, axis = 1)\n",
    "\n",
    "T3_mean = np.mean(T3, axis = 1)\n",
    "T3_max = np.max(T3, axis = 1)\n",
    "T3_min = np.min(T3, axis = 1)\n",
    "\n",
    "N = np.mean(np.log10(np.array(N)), axis = 1)\n",
    "\n",
    "fig, axes = plt.subplots(figsize= (8, 3.5))\n",
    "\n",
    "blue_patch = mpatches.Patch(color='tab:blue', label='J = 3')\n",
    "orange_patch = mpatches.Patch(color='tab:orange', label='J = 6')\n",
    "green_patch = mpatches.Patch(color='tab:green', label='J = 9')\n",
    "color = ['tab:blue', 'tab:orange', 'tab:green']\n",
    "\n",
    "line = []\n",
    "for i in range(len(A1_mean)):\n",
    "    axes.plot([T1_max[i], T1_min[i]], [A1_mean[i], A1_mean[i]], color = color[i], linewidth=1)\n",
    "    axes.plot([T2_max[i], T2_min[i]], [A2_mean[i], A2_mean[i]], color = color[i], linewidth=1)\n",
    "    axes.plot([T3_max[i], T3_min[i]], [A3_mean[i], A3_mean[i]], color = color[i], linewidth=1)\n",
    "    axes.plot([T1_mean[i], T1_mean[i]], [A1_max[i], A1_min[i]], color = color[i], linewidth=1)\n",
    "    axes.plot([T2_mean[i], T2_mean[i]], [A2_max[i], A2_min[i]], color = color[i], linewidth=1)\n",
    "    axes.plot([T3_mean[i], T3_mean[i]], [A3_max[i], A3_min[i]], color = color[i], linewidth=1)\n",
    "    axes.scatter(T1_mean[i], A1_mean[i], marker = \"s\", color = color[i], s=25)\n",
    "    axes.scatter(T2_mean[i], A2_mean[i], marker = \"x\", color = color[i], s=50)\n",
    "    axes.scatter(T3_mean[i], A3_mean[i], marker = \".\", color = color[i], s=80)\n",
    "    line.append(plt.axhline(y = N[i], ls = \"--\", color = color[i], alpha=0.5))\n",
    "\n",
    "square_legend = mlines.Line2D([], [], color='black', marker='s', linestyle='None', markersize=6, label='ADAM + LBFGS')\n",
    "croix_legend = mlines.Line2D([], [], color='black', marker='x', linestyle='None', markersize=8, label='Balanced hierarchical')\n",
    "circle_legend = mlines.Line2D([], [], color='black', marker='.', linestyle='None', markersize=8, label='Unbalanced hierarchical')\n",
    "\n",
    "axes.set_ylabel(\"log$_{10}$ of approx. error\")\n",
    "axes.set_xlabel(\"log$_{10}$ of running time (s)\")\n",
    "axes.set_xlim(-3,4)\n",
    "\n",
    "legend1 = plt.legend(handles=[blue_patch, orange_patch, green_patch], loc=4)\n",
    "legend2 = plt.legend(handles=[square_legend, croix_legend, circle_legend], loc=2)\n",
    "axes.add_artist(legend1)\n",
    "axes.add_artist(legend2)"
   ]
  },
  {
   "cell_type": "markdown",
   "id": "canadian-patent",
   "metadata": {},
   "source": [
    "We now reproduce Figure 2."
   ]
  },
  {
   "cell_type": "code",
   "execution_count": 76,
   "id": "grateful-barbados",
   "metadata": {},
   "outputs": [
    {
     "name": "stdout",
     "output_type": "stream",
     "text": [
      "Norm of the DFT matrix: 16.0\n",
      "\n",
      "ITERATIVE GRADIENT-BASED FACTORIZATION\n",
      "Approximation error computed as || Z - BP ||: 4.161737800347944e-05\n",
      "Factorization time: 0.6227812767028809\n",
      "\n",
      "HIERARCHICAL BALANCED FACTORIZATION METHOD\n",
      "Approximation error computed as || Z - BP ||: 1.7541040435838083e-14\n",
      "Factorization time: 0.05757451057434082\n",
      "\n",
      "HIERARCHICAL UNBALANCED FACTORIZATION METHOD\n",
      "Approximation error computed as || Z - BP ||: 1.7317028617240767e-14\n",
      "Factorization time: 0.0726165771484375\n"
     ]
    },
    {
     "data": {
      "image/png": "[encoded data removed]",
      "text/plain": [
       "<Figure size 432x288 with 1 Axes>"
      ]
     },
     "metadata": {
      "needs_background": "light"
     },
     "output_type": "display_data"
    }
   ],
   "source": [
    "%run scripts/grad_factorization \\\n",
    "    --num_factors 4 \\\n",
    "    --learning_rate 0.1 \\\n",
    "    --results_path results/iterative_vs_hier.npz"
   ]
  },
  {
   "cell_type": "code",
   "execution_count": null,
   "id": "velvet-bridge",
   "metadata": {},
   "outputs": [],
   "source": []
  }
 ],
 "metadata": {
  "kernelspec": {
   "display_name": "Python 3",
   "language": "python",
   "name": "python3"
  },
  "language_info": {
   "codemirror_mode": {
    "name": "ipython",
    "version": 3
   },
   "file_extension": ".py",
   "mimetype": "text/x-python",
   "name": "python",
   "nbconvert_exporter": "python",
   "pygments_lexer": "ipython3",
   "version": "3.7.10"
  }
 },
 "nbformat": 4,
 "nbformat_minor": 5
}
